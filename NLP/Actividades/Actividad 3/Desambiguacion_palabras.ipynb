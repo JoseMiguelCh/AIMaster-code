{
  "cells": [
    {
      "cell_type": "markdown",
      "metadata": {
        "id": "js2yPtgIT7e_"
      },
      "source": [
        "# Desambiguación del sentido de las palabras\n",
        "\n",
        "La desambiguación de palabras es una de las tareas comunes en Procesamiento de Lenguaje Natural (NLP por sus siglas en inglés) en donde se pueden aplicar métodos basados en aprendizaje supervisado, semi-supervisado y no supervisado para habilitar algoritmos que logren desambiguar palabras en contextos específicos. En este notebbok se exploran diferentes formas de solucionar la tarea de desambigaur palabras en idioma inglés con diferentes frameworks y técnicas del estado del arte.\n",
        "\n",
        "\n",
        "# Librerías utilizadas\n",
        "\n",
        "- NLTK: https://www.nltk.org/install.html\n",
        "- Seaborn\n",
        "- Matplotlib\n",
        "- Gensim\n",
        "\n",
        "\n",
        "# Datasets utilizados\n",
        "\n",
        " - corpus etiquetado en inglés llamado **Senseval 2** displonible en la librería NLTK. http://www.nltk.org/howto/corpus.html\n"
      ]
    },
    {
      "cell_type": "markdown",
      "metadata": {
        "id": "lTUJKklQT7fA"
      },
      "source": [
        "# Dercarga del dataset"
      ]
    },
    {
      "cell_type": "code",
      "execution_count": 1,
      "metadata": {
        "colab": {
          "base_uri": "https://localhost:8080/"
        },
        "id": "ox8LhlJdT7fA",
        "outputId": "57f33c49-7ff8-4b78-c8fd-46c0a88d1645"
      },
      "outputs": [
        {
          "name": "stderr",
          "output_type": "stream",
          "text": [
            "[nltk_data] Downloading package senseval to\n",
            "[nltk_data]     /Users/josemiguel/nltk_data...\n",
            "[nltk_data]   Package senseval is already up-to-date!\n"
          ]
        }
      ],
      "source": [
        "import nltk\n",
        "nltk.download('senseval')\n",
        "from nltk.corpus import senseval"
      ]
    },
    {
      "cell_type": "markdown",
      "metadata": {
        "id": "tOAo4QayT7fB"
      },
      "source": [
        "El corpus **Senseval 2** contiene datos etiquetados que sirven para entrenar un clasificador que permita desambiguar el sentido de las palabras. Cada elemento del corpus **Senseval 2** se corresponde a una palabra ambigua. Para poder extraer la información sobre las palabras es imprescindible la manera en la que se identifican en el corpus, es decir, sus identificadores. Con el siguiente comando, se extraen los identificadores de las palabras tratadas en el corpus. "
      ]
    },
    {
      "cell_type": "code",
      "execution_count": 2,
      "metadata": {
        "colab": {
          "base_uri": "https://localhost:8080/"
        },
        "id": "WcvAx1yhT7fB",
        "outputId": "706e00ad-9299-48d3-bd2a-d0bcf01a7fe0",
        "scrolled": true
      },
      "outputs": [
        {
          "data": {
            "text/plain": [
              "['hard.pos', 'interest.pos', 'line.pos', 'serve.pos']"
            ]
          },
          "execution_count": 2,
          "metadata": {},
          "output_type": "execute_result"
        }
      ],
      "source": [
        "senseval.fileids()"
      ]
    },
    {
      "cell_type": "markdown",
      "metadata": {
        "id": "bvdu7yMpT7fB"
      },
      "source": [
        "Para cada una de las palabras ambiguas, el corpus contiene una lista de instancias correspondientes a las ocurrencias de esa palabra. Para cada instancia se proporciona la palabra, una lista de sentidos que se aplican a la aparición de esa palabra y el contexto de la palabra. "
      ]
    },
    {
      "cell_type": "markdown",
      "metadata": {
        "id": "ebuy6FAbT7fC"
      },
      "source": [
        "En la siguiente figura se observa el comando utilizado para visualizar la información que contiene cada instancia de la palabra ambigua *«hard»*."
      ]
    },
    {
      "cell_type": "code",
      "execution_count": 3,
      "metadata": {
        "colab": {
          "base_uri": "https://localhost:8080/"
        },
        "id": "eI8VHGXTT7fC",
        "outputId": "04d41ae9-a12e-42b8-a12b-e23d979cabd1"
      },
      "outputs": [
        {
          "data": {
            "text/plain": [
              "[SensevalInstance(word='hard-a', position=20, context=[('``', '``'), ('he', 'PRP'), ('may', 'MD'), ('lose', 'VB'), ('all', 'DT'), ('popular', 'JJ'), ('support', 'NN'), (',', ','), ('but', 'CC'), ('someone', 'NN'), ('has', 'VBZ'), ('to', 'TO'), ('kill', 'VB'), ('him', 'PRP'), ('to', 'TO'), ('defeat', 'VB'), ('him', 'PRP'), ('and', 'CC'), ('that', 'DT'), (\"'s\", 'VBZ'), ('hard', 'JJ'), ('to', 'TO'), ('do', 'VB'), ('.', '.'), (\"''\", \"''\")], senses=('HARD1',)), SensevalInstance(word='hard-a', position=10, context=[('clever', 'NNP'), ('white', 'NNP'), ('house', 'NNP'), ('``', '``'), ('spin', 'VB'), ('doctors', 'NNS'), (\"''\", \"''\"), ('are', 'VBP'), ('having', 'VBG'), ('a', 'DT'), ('hard', 'JJ'), ('time', 'NN'), ('helping', 'VBG'), ('president', 'NNP'), ('bush', 'NNP'), ('explain', 'VB'), ('away', 'RB'), ('the', 'DT'), ('economic', 'JJ'), ('bashing', 'NN'), ('that', 'IN'), ('low-and', 'JJ'), ('middle-income', 'JJ'), ('workers', 'NNS'), ('are', 'VBP'), ('taking', 'VBG'), ('these', 'DT'), ('days', 'NNS'), ('.', '.')], senses=('HARD1',)), ...]"
            ]
          },
          "execution_count": 3,
          "metadata": {},
          "output_type": "execute_result"
        }
      ],
      "source": [
        "senseval.instances('hard.pos')"
      ]
    },
    {
      "cell_type": "markdown",
      "metadata": {
        "id": "sqX_4bQIT7fC"
      },
      "source": [
        "Por ejemplo, en la primera instancia (`SensevalInstance`) la palabra ambigua (`word`) es `‘hard-a’`, lo que indica que la palabra es `‘hard’` y en este caso la categoría gramatical es un adjetivo, identificado por el sufijo `‘-a’`."
      ]
    },
    {
      "cell_type": "markdown",
      "metadata": {
        "id": "In9PasmIT7fD"
      },
      "source": [
        "El campo `position` indica la posición en la oración en la que se encuentra la palabra ambigua, en este caso la palabra `‘hard’` se encuentra en la posición 20."
      ]
    },
    {
      "cell_type": "markdown",
      "metadata": {
        "id": "0PFiTSl5T7fD"
      },
      "source": [
        "El campo `context` representa el contexto, es decir, la oración en la que se encuentra la palabra ambigua, en este ejemplo *«\"he may lose all popular support, but someone has to kill him to defeat him and that's hard to do.\"»*. El contexto viene representado por pares formados por una palabra y la correspondiente etiqueta gramatical. Por ejemplo, el par `(‘he’, ‘PRP’)` que aparece en el contexto indica que la categoría gramatical asociada a la palabra `‘he’` es un pronombre personal `‘PRP’`. "
      ]
    },
    {
      "cell_type": "markdown",
      "metadata": {
        "id": "Obnbei1pT7fD"
      },
      "source": [
        "Por último, el campo `senses` contiene los posibles sentidos de la palabra ambigua, en el ejemplo `‘HARD1’`. Los sentidos del corpus hacen referencia a los sentidos de la palabra recogidos en la base de datos de relaciones léxicas WordNet<sup>1</sup>.\n",
        "\n",
        "\n",
        "<sup>1</sup> Puede que los sentidos que aparecen en Senseval 2 difieran de los que se encuentran actualmente en WordNet, debido a la constante actualización de este. En este laboratorio no será necesario trabajar con WordNet, se menciona como información adicional."
      ]
    },
    {
      "cell_type": "markdown",
      "metadata": {
        "id": "p4sD5tl-T7fE"
      },
      "source": [
        "En este caso `‘HARD1’` hace referencia la primera definición de la palabra `‘hard’` que aparece en WordNet, a «difícil»,  *«difficult, hard (not easy; requiring great physical or mental effort to accomplish or comprehend or endure)»*. Esta información se puede obtener utilizando la interfaz de búsqueda web de WordNet cuyo resultado se muestra en la siguiente figura.\n",
        "\n",
        "***\n",
        "Accede al interfaz de búsqueda de WordNet a través del aula virtual o desde la siguiente dirección web: http://wordnetweb.princeton.edu/perl/webwn\n",
        "\n",
        "***\n",
        "\n"
      ]
    },
    {
      "cell_type": "markdown",
      "metadata": {
        "id": "qx6D2qFlT7fE"
      },
      "source": [
        "**Nota:** NLTK implementa también un lector para la información disponible en la base de datos de relaciones léxicas WordNet. Aunque no es necesario para realizar esta actividad de laboratorio, WordNet se puede importar utilizando el siguiente comando:\n",
        "\n",
        "> *from nltk.corpus import wordnet*"
      ]
    },
    {
      "cell_type": "markdown",
      "metadata": {
        "id": "2tnHrP8OT7fE"
      },
      "source": []
    },
    {
      "cell_type": "markdown",
      "metadata": {
        "id": "XV21C18HT7fE"
      },
      "source": [
        "## 1. Análisis exploratorio de los datos\n",
        "\n",
        "Analiza el corpus Senseval 2 que vas a utilizar para entrenar los clasificadores. Para realizar el análisis utiliza las funcionalidades que aporta NLTK. Desarrolla el código necesario y responde a las siguientes preguntas."
      ]
    },
    {
      "cell_type": "markdown",
      "metadata": {
        "id": "CBGxIc9OT7fF"
      },
      "source": [
        "Método que a partir de la palabra ambigua, o mejor dicho del nombre del archivo del corpus `word` para la palabra ambigua, obtiene cuáles son los posibles **sentidos de la palabra ambigua**:"
      ]
    },
    {
      "cell_type": "code",
      "execution_count": 4,
      "metadata": {
        "id": "yk_eodTTT7fF"
      },
      "outputs": [],
      "source": [
        "def senses(word):\n",
        "    \"\"\"\n",
        "    This takes a target word from senseval-2 and it returns the list of possible senses for the word\n",
        "    \"\"\"\n",
        "    return list(set(i.senses[0] for i in senseval.instances(word)))"
      ]
    },
    {
      "cell_type": "markdown",
      "metadata": {
        "id": "GhHMSIyeT7fF"
      },
      "source": [
        "Sentidos de las palabras ambiguas:"
      ]
    },
    {
      "cell_type": "code",
      "execution_count": 1,
      "metadata": {
        "colab": {
          "base_uri": "https://localhost:8080/"
        },
        "id": "fdoQZU8JT7fF",
        "outputId": "fc061710-f002-436d-fd82-fed7a4446015"
      },
      "outputs": [
        {
          "ename": "NameError",
          "evalue": "name 'senses' is not defined",
          "output_type": "error",
          "traceback": [
            "\u001b[0;31m---------------------------------------------------------------------------\u001b[0m",
            "\u001b[0;31mNameError\u001b[0m                                 Traceback (most recent call last)",
            "\u001b[1;32m/Volumes/GoogleDrive/My Drive/PERSONAL/MÁSTER IA/II CUATRIMESTRE/NLP/Actividad 3/Desambiguacion_palabras.ipynb Cell 3'\u001b[0m in \u001b[0;36m<cell line: 1>\u001b[0;34m()\u001b[0m\n\u001b[0;32m----> <a href='vscode-notebook-cell:/Volumes/GoogleDrive/My%20Drive/PERSONAL/M%C3%81STER%20IA/II%20CUATRIMESTRE/NLP/Actividad%203/Desambiguacion_palabras.ipynb#ch0000002?line=0'>1</a>\u001b[0m senses(\u001b[39m'\u001b[39m\u001b[39mhard.pos\u001b[39m\u001b[39m'\u001b[39m)\n",
            "\u001b[0;31mNameError\u001b[0m: name 'senses' is not defined"
          ]
        }
      ],
      "source": [
        "senses('hard.pos')"
      ]
    },
    {
      "cell_type": "code",
      "execution_count": 6,
      "metadata": {
        "colab": {
          "base_uri": "https://localhost:8080/"
        },
        "id": "JBPNJlFJT7fF",
        "outputId": "f59e0c76-1906-481d-cc7f-66184838cbbc"
      },
      "outputs": [
        {
          "data": {
            "text/plain": [
              "['SERVE12', 'SERVE6', 'SERVE2', 'SERVE10']"
            ]
          },
          "execution_count": 6,
          "metadata": {},
          "output_type": "execute_result"
        }
      ],
      "source": [
        "senses('serve.pos')"
      ]
    },
    {
      "cell_type": "markdown",
      "metadata": {
        "id": "jFQ7wgEhT7fG"
      },
      "source": [
        "Método que obtiene todas las **instancias de un posible sentido de la palabra ambigua** a partir de la lista de instancias de una palabra `instances` y el nombre del sentido palabra ambigua `sense`:"
      ]
    },
    {
      "cell_type": "code",
      "execution_count": 7,
      "metadata": {
        "id": "a3OjKTxWT7fG"
      },
      "outputs": [],
      "source": [
        "def sense_instances(instances, sense):\n",
        "    \"\"\"\n",
        "    This returns the list of instances in instances that have the sense sense\n",
        "    \"\"\"\n",
        "    return [instance for instance in instances if instance.senses[0]==sense]"
      ]
    },
    {
      "cell_type": "code",
      "execution_count": 8,
      "metadata": {
        "colab": {
          "base_uri": "https://localhost:8080/"
        },
        "id": "cUXdRLzcT7fG",
        "outputId": "bf5077e4-d48e-47fb-fadf-fa00f504656d"
      },
      "outputs": [
        {
          "name": "stdout",
          "output_type": "stream",
          "text": [
            "Existen 3455 instancias para el sentido HARD1 de la palabra hard.pos\n",
            "Existen 376 instancias para el sentido HARD3 de la palabra hard.pos\n",
            "Existen 502 instancias para el sentido HARD2 de la palabra hard.pos\n",
            "Existen 1272 instancias para el sentido SERVE12 de la palabra serve.pos\n",
            "Existen 439 instancias para el sentido SERVE6 de la palabra serve.pos\n",
            "Existen 853 instancias para el sentido SERVE2 de la palabra serve.pos\n",
            "Existen 1814 instancias para el sentido SERVE10 de la palabra serve.pos\n"
          ]
        }
      ],
      "source": [
        "conteo_instancias = {}\n",
        "for word in ['hard.pos','serve.pos']:\n",
        "  lista_sentidos = {}\n",
        "  for sense in senses(word):\n",
        "    conteo = len(sense_instances(senseval.instances(word),sense))\n",
        "    lista_sentidos[sense] = conteo\n",
        "    print (f\"Existen {conteo} instancias para el sentido {sense} de la palabra {word}\")\n",
        "  conteo_instancias[word] = lista_sentidos"
      ]
    },
    {
      "cell_type": "code",
      "execution_count": 9,
      "metadata": {
        "id": "W47PG2n3S99l"
      },
      "outputs": [],
      "source": [
        "import seaborn as sns\n",
        "import matplotlib.pyplot as plt  \n",
        "import numpy as np\n",
        "import pandas as pd"
      ]
    },
    {
      "cell_type": "code",
      "execution_count": 10,
      "metadata": {
        "colab": {
          "base_uri": "https://localhost:8080/",
          "height": 451
        },
        "id": "BYYBc4LzZ0An",
        "outputId": "f01842f2-ea8a-475b-c65f-6a97e47b170d"
      },
      "outputs": [
        {
          "data": {
            "text/plain": [
              "Text(0.5, 1.0, 'Distribución sentidos hard.pos')"
            ]
          },
          "execution_count": 10,
          "metadata": {},
          "output_type": "execute_result"
        },
        {
          "data": {
            "image/png": "[encoded data removed]",
            "text/plain": [
              "<Figure size 720x576 with 2 Axes>"
            ]
          },
          "metadata": {},
          "output_type": "display_data"
        }
      ],
      "source": [
        "fig, (ax1, ax2) = plt.subplots(1, 2, figsize=(10,8))\n",
        "fig.suptitle('Distribución de lo sentidos por palabra')\n",
        "\n",
        "ax1.pie(list(conteo_instancias['hard.pos'].values()), labels=list(conteo_instancias['hard.pos'].keys()), autopct=\"%.1f%%\")\n",
        "ax1.set_title(\"Distribución sentidos hard.pos\")\n",
        "\n",
        "ax2.pie(conteo_instancias['serve.pos'].values(), labels=conteo_instancias['serve.pos'].keys(), autopct=\"%.1f%%\")\n",
        "ax2.set_title(\"Distribución sentidos hard.pos\")"
      ]
    },
    {
      "cell_type": "code",
      "execution_count": 11,
      "metadata": {
        "id": "1AoYEi1MvOl3"
      },
      "outputs": [],
      "source": [
        "df_hard = pd.DataFrame.from_dict(conteo_instancias['hard.pos'], orient='index', columns=['conteo']).reset_index()\n",
        "df_serve = pd.DataFrame.from_dict(conteo_instancias['serve.pos'], orient='index', columns=['conteo']).reset_index()"
      ]
    },
    {
      "cell_type": "code",
      "execution_count": 12,
      "metadata": {
        "colab": {
          "base_uri": "https://localhost:8080/",
          "height": 449
        },
        "id": "5gGN2j_fYYr8",
        "outputId": "55523ed4-d4ef-4858-b787-bdce5cab0c8f"
      },
      "outputs": [
        {
          "data": {
            "text/plain": [
              "Text(0, 0.5, 'Frecuencia')"
            ]
          },
          "execution_count": 12,
          "metadata": {},
          "output_type": "execute_result"
        },
        {
          "data": {
            "image/png": "[encoded data removed]",
            "text/plain": [
              "<Figure size 1008x432 with 2 Axes>"
            ]
          },
          "metadata": {
            "needs_background": "light"
          },
          "output_type": "display_data"
        }
      ],
      "source": [
        "fig2, (ax3, ax4) = plt.subplots(1, 2, figsize=(14,6))\n",
        "fig2.suptitle('Distribución de lo sentidos por palabra')\n",
        "\n",
        "sns.set_style(\"whitegrid\")\n",
        "\n",
        "ax3 = sns.barplot(y='conteo', x='index',  data=df_hard,  ci=None, palette=\"muted\",orient='v', ax=ax3 )\n",
        "ax3.set_title(\"Porcentaje sentidos hard\", fontsize=15)\n",
        "ax3.set_xlabel (\"Sentido\")\n",
        "ax3.set_ylabel (\"Frecuencia\")\n",
        "\n",
        "ax4 = sns.barplot(y='conteo', x='index',  data=df_serve,  ci=None, palette=\"muted\",orient='v',  ax=ax4  )\n",
        "ax4.set_title(\"Porcentaje sentidos serve\", fontsize=15)\n",
        "ax4.set_xlabel (\"Sentido\")\n",
        "ax4.set_ylabel (\"Frecuencia\")"
      ]
    },
    {
      "cell_type": "markdown",
      "metadata": {
        "id": "hIPXkBSAT7fH"
      },
      "source": [
        "* En el contexto, las palabras ambiguas pueden aparecer en diferentes formas gramaticales. Por ejemplo, en el caso de la palabra ambigua *«hard»*, esta aparece tanto la forma base, el adjetivo *«hard»* como en comparativo *«harder»* y como en superlativo *«hardest»*."
      ]
    },
    {
      "cell_type": "markdown",
      "metadata": {
        "id": "TXRuc-dPT7fH"
      },
      "source": [
        "Método que muestra las diferentes **versiones de la palabra ambigua** a partir del nombre del archivo del corpus `word` para la palabra ambiguala palabra ambigua:"
      ]
    },
    {
      "cell_type": "code",
      "execution_count": 13,
      "metadata": {
        "id": "cvkDgzx3T7fH"
      },
      "outputs": [],
      "source": [
        "def tokens(word):\n",
        "    \"\"\"\n",
        "    This takes a target word from senseval-2 and it returns the list of possible tokens for the word\n",
        "    \"\"\"\n",
        "    token = set()\n",
        "    for inst in senseval.instances(word)[:]:\n",
        "        token.update([w for (w,t) in inst.context[inst.position:inst.position+1]])\n",
        "    return list(token)"
      ]
    },
    {
      "cell_type": "markdown",
      "metadata": {
        "id": "FDdg585gT7fH"
      },
      "source": [
        "Mostrar las diferentes versiones de la palabra ambigua"
      ]
    },
    {
      "cell_type": "code",
      "execution_count": 14,
      "metadata": {
        "colab": {
          "base_uri": "https://localhost:8080/"
        },
        "id": "vALWHEKyT7fH",
        "outputId": "31009f45-8364-4faf-8a79-305592a42880"
      },
      "outputs": [
        {
          "data": {
            "text/plain": [
              "['hard', 'harder', 'hardest']"
            ]
          },
          "execution_count": 14,
          "metadata": {},
          "output_type": "execute_result"
        }
      ],
      "source": [
        "tokens('hard.pos')"
      ]
    },
    {
      "cell_type": "code",
      "execution_count": 15,
      "metadata": {
        "colab": {
          "base_uri": "https://localhost:8080/"
        },
        "id": "CiP0aF87T7fH",
        "outputId": "0911798c-b5b4-47da-d86c-9d3d82e5ba69"
      },
      "outputs": [
        {
          "data": {
            "text/plain": [
              "['serves', 'serve', 'serving', 'served']"
            ]
          },
          "execution_count": 15,
          "metadata": {},
          "output_type": "execute_result"
        }
      ],
      "source": [
        "tokens('serve.pos')"
      ]
    },
    {
      "cell_type": "markdown",
      "metadata": {
        "id": "MAyfh_NQAkJ_"
      },
      "source": [
        "Para verificar si las instancias cumplen con el formato se validan las siguientes condiciones:\n",
        "\n",
        "1.   Que los valores de las etiquetas y palabras no estén vacías\n",
        "2.   Que en el contexto solo existan tuplas (palabra, etiqueta)"
      ]
    },
    {
      "cell_type": "code",
      "execution_count": 16,
      "metadata": {
        "colab": {
          "base_uri": "https://localhost:8080/"
        },
        "id": "4mNgA4ZzJPnk",
        "outputId": "bcb501bd-c748-461a-a8d5-31f5fc23b297"
      },
      "outputs": [
        {
          "data": {
            "text/plain": [
              "['hard.pos', 'interest.pos', 'line.pos', 'serve.pos']"
            ]
          },
          "execution_count": 16,
          "metadata": {},
          "output_type": "execute_result"
        }
      ],
      "source": [
        "# Sentidos definidos en el corpus senseval\n",
        "senseval.fileids()"
      ]
    },
    {
      "cell_type": "code",
      "execution_count": 17,
      "metadata": {
        "colab": {
          "base_uri": "https://localhost:8080/"
        },
        "id": "VjJduXoFT7fI",
        "outputId": "67a33e9d-2e0b-4923-a2a1-4757f9ab2526"
      },
      "outputs": [
        {
          "name": "stdout",
          "output_type": "stream",
          "text": [
            "No existen tuplas vacías\n"
          ]
        }
      ],
      "source": [
        "# Valición de etiquetas y palabras no vacías para las apariciones de lo sentidos en el corpus\n",
        "for sense in senseval.fileids():\n",
        "    instances = senseval.instances(sense)\n",
        "    count_empty_tuples = 0\n",
        "    for i,instance in enumerate(instances):\n",
        "        word, tag = instances[i].context[instances[i].position]\n",
        "        if word == '':\n",
        "            print ('existen palabras vacías')\n",
        "            count_empty_tuples += 1\n",
        "        if tag == '':\n",
        "            print ('existen tags vacíos')\n",
        "            count_empty_tuples += 1\n",
        "if count_empty_tuples < 1:\n",
        "  print ('No existen tuplas vacías')"
      ]
    },
    {
      "cell_type": "code",
      "execution_count": 18,
      "metadata": {
        "colab": {
          "base_uri": "https://localhost:8080/"
        },
        "id": "CbEJCubCI6zg",
        "outputId": "a879eb19-9d67-4c92-96ee-063cc32243cb"
      },
      "outputs": [
        {
          "name": "stdout",
          "output_type": "stream",
          "text": [
            "El sentido hard.pos tiene 34 de tuplas que no tienen la estructura (word, tag)\n",
            "El sentido interest.pos tiene 0 de tuplas que no tienen la estructura (word, tag)\n",
            "El sentido line.pos tiene 237 de tuplas que no tienen la estructura (word, tag)\n",
            "El sentido serve.pos tiene 94 de tuplas que no tienen la estructura (word, tag)\n",
            "\n",
            "EJEMPLOS DE ERRORES:\n",
            "Error en el contexto de la instancia [2072] con valor 'FRASL' del sentido <<serve.pos>>, la tupla no tiene la estructura (word, tag)\n",
            "Error en el contexto de la instancia [1041] con valor 'FRASL' del sentido <<serve.pos>>, la tupla no tiene la estructura (word, tag)\n",
            "Error en el contexto de la instancia [2178] con valor 'FRASL' del sentido <<serve.pos>>, la tupla no tiene la estructura (word, tag)\n",
            "Error en el contexto de la instancia [1492] con valor 'FRASL' del sentido <<serve.pos>>, la tupla no tiene la estructura (word, tag)\n",
            "Error en el contexto de la instancia [2882] con valor 'FRASL' del sentido <<serve.pos>>, la tupla no tiene la estructura (word, tag)\n"
          ]
        }
      ],
      "source": [
        "import random\n",
        "\n",
        "# Valición que en el contexto solo existan tuplas con la estructura (palabra, etiqueta)\n",
        "count_error_tuples = {}\n",
        "\n",
        "for sense in senseval.fileids():\n",
        "    tuples_error_list = []\n",
        "    count_error_tuples[sense] = 0\n",
        "    instances = senseval.instances(sense)\n",
        "    for i,instance in enumerate(instances):\n",
        "        for tuples in instances[i].context:\n",
        "          if len(tuples) != 2:\n",
        "            tuples_error_list.append(f\"Error en el contexto de la instancia [{i}] con valor '{tuples}' del sentido <<{sense}>>, la tupla no tiene la estructura (word, tag)\")\n",
        "            count_error_tuples[sense] += 1\n",
        "\n",
        "# Imprime el número de tuplas con error por sentido\n",
        "for tuples in count_error_tuples:\n",
        "    print (f\"El sentido {tuples} tiene {count_error_tuples[tuples]} de tuplas que no tienen la estructura (word, tag)\")\n",
        "\n",
        "# imprime cinco(5) errores de la lista seleccionados aleatoreamente:\n",
        "print (\"\\nEJEMPLOS DE ERRORES:\")\n",
        "for i in range(0,5): print(random.choice(tuples_error_list))"
      ]
    },
    {
      "cell_type": "markdown",
      "metadata": {
        "id": "t7L1tkd4T7fI"
      },
      "source": [
        "*   El dataset no contiene valores vacíos de palabra y etiqueta para las palabras de sentidos ambiguos.\n",
        "*   Se identifican los siguientes errores:\n",
        "\n",
        " - El sentido hard.pos tiene 34 de tuplas que no tienen la estructura (word,  - tag)\n",
        " - El sentido interest.pos tiene 0 de tuplas que no tienen la estructura (word, tag)\n",
        " - El sentido line.pos tiene 237 de tuplas que no tienen la estructura (word, tag)\n",
        " - El sentido serve.pos tiene 94 de tuplas que no tienen la estructura (word, tag)\n",
        "\n",
        "Ejemplos de errores:\n",
        "\n",
        " - Error en el contexto de la instancia [1213] con valor 'FRASL' del sentido <<serve.pos>>, la tupla no tiene la estructura (word, tag)\n",
        " - Error en el contexto de la instancia [4015] con valor 'FRASL' del sentido <<serve.pos>>, la tupla no tiene la estructura (word, tag)\n",
        " - Error en el contexto de la instancia [664] con valor 'FRASL' del sentido <<serve.pos>>, la tupla no tiene la estructura (word, tag)\n",
        " - Error en el contexto de la instancia [3341] con valor 'FRASL' del sentido <<serve.pos>>, la tupla no tiene la estructura (word, tag)\n",
        " - Error en el contexto de la instancia [151] con valor 'FRASL' del sentido <<serve.pos>>, la tupla no tiene la estructura (word, tag)\n",
        "\n",
        "\n",
        "\n"
      ]
    },
    {
      "cell_type": "markdown",
      "metadata": {
        "id": "UEx6h4CvT7fI"
      },
      "source": [
        "# **Parte 2: Extracción de características**\n",
        "\n",
        "La representación de las caraterísticas o features es clave en la definición del problema de clasificación a continuación se exploran e implementan diferentes modelos de extracción de características."
      ]
    },
    {
      "cell_type": "markdown",
      "metadata": {
        "id": "I-iDmyR6T7fI"
      },
      "source": [
        "### Extracción de características basada en las palabras vecinas"
      ]
    },
    {
      "cell_type": "markdown",
      "metadata": {
        "id": "9F_4tAUsT7fJ"
      },
      "source": [
        "Para una instancia de la palaba ambigua «hard» su contexto se muestra a continuación:"
      ]
    },
    {
      "cell_type": "code",
      "execution_count": 19,
      "metadata": {
        "id": "VR_zAIqdT7fJ"
      },
      "outputs": [],
      "source": [
        "instances_hard = senseval.instances('hard.pos')"
      ]
    },
    {
      "cell_type": "code",
      "execution_count": 20,
      "metadata": {
        "id": "Di9nykKYT7fJ"
      },
      "outputs": [],
      "source": [
        "inst_hard_1 = instances_hard[1]"
      ]
    },
    {
      "cell_type": "code",
      "execution_count": 21,
      "metadata": {
        "colab": {
          "base_uri": "https://localhost:8080/"
        },
        "id": "DoEOk9mbT7fJ",
        "outputId": "1b569695-f9b0-4b22-ecad-79150504946b"
      },
      "outputs": [
        {
          "data": {
            "text/plain": [
              "[('clever', 'NNP'),\n",
              " ('white', 'NNP'),\n",
              " ('house', 'NNP'),\n",
              " ('``', '``'),\n",
              " ('spin', 'VB'),\n",
              " ('doctors', 'NNS'),\n",
              " (\"''\", \"''\"),\n",
              " ('are', 'VBP'),\n",
              " ('having', 'VBG'),\n",
              " ('a', 'DT'),\n",
              " ('hard', 'JJ'),\n",
              " ('time', 'NN'),\n",
              " ('helping', 'VBG'),\n",
              " ('president', 'NNP'),\n",
              " ('bush', 'NNP'),\n",
              " ('explain', 'VB'),\n",
              " ('away', 'RB'),\n",
              " ('the', 'DT'),\n",
              " ('economic', 'JJ'),\n",
              " ('bashing', 'NN'),\n",
              " ('that', 'IN'),\n",
              " ('low-and', 'JJ'),\n",
              " ('middle-income', 'JJ'),\n",
              " ('workers', 'NNS'),\n",
              " ('are', 'VBP'),\n",
              " ('taking', 'VBG'),\n",
              " ('these', 'DT'),\n",
              " ('days', 'NNS'),\n",
              " ('.', '.')]"
            ]
          },
          "execution_count": 21,
          "metadata": {},
          "output_type": "execute_result"
        }
      ],
      "source": [
        "inst_hard_1.context"
      ]
    },
    {
      "cell_type": "markdown",
      "metadata": {
        "id": "YoGMJrYYT7fJ"
      },
      "source": [
        "Suponiendo que el vocabulario usado para crear extraer las características es el siguiente:"
      ]
    },
    {
      "cell_type": "markdown",
      "metadata": {
        "id": "j7pP-SWDT7fM"
      },
      "source": [
        "`['time', 'would', 'get', 'work', 'find', 'make']`"
      ]
    },
    {
      "cell_type": "markdown",
      "metadata": {
        "id": "onRjfsLpT7fM"
      },
      "source": [
        "Entonces el vector de características extraídas para esa instancia sería:"
      ]
    },
    {
      "cell_type": "markdown",
      "metadata": {
        "id": "azWkXCExT7fM"
      },
      "source": [
        "`{'contains(time)': True, \n",
        "'contains(would)': False, \n",
        "'contains(get)': False, \n",
        "'contains(work)': False, \n",
        "'contains(find)': False, \n",
        "'contains(make)': False}`"
      ]
    },
    {
      "cell_type": "markdown",
      "metadata": {
        "id": "7Y_QvRbdT7fM"
      },
      "source": [
        "Este vector de características indica que en el contexto de la palabra ambigua aparece la palabra *«time»* y no aparecen las palabras *«would»*, *«get»*, *«work»*, *«find»* y *«make»*."
      ]
    },
    {
      "cell_type": "markdown",
      "metadata": {
        "id": "MqvzGwv_T7fN"
      },
      "source": [
        "#### 1. Construcción del vocabulario o bags of words. \n",
        "\n",
        "Para obtener el vector de características, se debe construir previamente un vocabulario. Para cada una de las palabras del vocabulario, se debe consultar si la palabra aparece en el contexto de la palabra ambigua. Si la palabra del vocabulario aparece en el contexto entonces en el vector de características aparecerá True para esa palabra y si no, False. "
      ]
    },
    {
      "cell_type": "markdown",
      "metadata": {
        "id": "-tGIYpFLT7fN"
      },
      "source": [
        "Por ejemplo un vocabulario creado sobre el que se ha construido el vector de características. Este vocabulario es `['time', 'would', 'get', 'work', 'find', 'make']`. Este vocabulario se usará posteriormente para construir el vector de características del ejemplo."
      ]
    },
    {
      "cell_type": "markdown",
      "metadata": {
        "id": "enMFrDQoT7fN"
      },
      "source": [
        "- Utilizar como vocabulario las m palabras más frecuentes que aparecen en las instancias que conforman el conjunto de datos, es decir en las oraciones que contienen las palabras ambiguas y que forman parte del corpus. Entonces, para crear la **bag of words** (bolsa de palabras) se debe extraer el conjunto de las n palabras más frecuentes. Para ello se utiliza la función `nltk.FreqDist()` que proporciona información sobre la distribución de frecuencias de las palabras que aparecen en un texto. "
      ]
    },
    {
      "cell_type": "markdown",
      "metadata": {
        "id": "qmORrc08T7fN"
      },
      "source": [
        "- Se deben eliminar los signos que puntuación y las palabras vacías (aquellas sin significado como artículos, pronombres o preposiciones, las llamadas stop words en inglés). También se debe eliminar las diferentes formas gramaticales de la palabra ambigua, por ejemplo, para desambiguar la palabra *«hard»* no tendría sentido utilizar la palabra *«harder»* ni la palabra *«hardest»*."
      ]
    },
    {
      "cell_type": "markdown",
      "metadata": {
        "id": "8Z_FcJj1T7fN"
      },
      "source": [
        "- Para la eliminiar palabras que no aportan valor al análisis se puede realizar una ampliación del conjunto de stopwords con las palabras que se requiere elimiar para aplicar un solo filtro:"
      ]
    },
    {
      "cell_type": "code",
      "execution_count": 22,
      "metadata": {
        "colab": {
          "base_uri": "https://localhost:8080/"
        },
        "id": "rfJps1x2T7fO",
        "outputId": "45bff666-ff9f-4b5a-a562-44300537ee00"
      },
      "outputs": [
        {
          "name": "stderr",
          "output_type": "stream",
          "text": [
            "[nltk_data] Downloading package stopwords to\n",
            "[nltk_data]     /Users/josemiguel/nltk_data...\n",
            "[nltk_data]   Package stopwords is already up-to-date!\n"
          ]
        }
      ],
      "source": [
        "import nltk\n",
        "import string\n",
        "nltk.download('stopwords')\n",
        "from nltk.corpus import stopwords\n",
        "OTHER_WORDS = [\"''\", \"'d\", \"'ll\", \"'m\", \"'re\", \"'s\", \"'t\", \"'ve\", '--', '000', '1', '2', '3', '4', '5', '6', '8', '10', '15', '30', 'I', 'F', '``', 'also', \"don'\", 'n', 'one', 'said', 'say', 'says', 'u', 'us']\n",
        "STOPWORDS_SET = set(stopwords.words('english')).union(set(string.punctuation), set(OTHER_WORDS))"
      ]
    },
    {
      "cell_type": "markdown",
      "metadata": {
        "id": "aSZJYtSeT7fO"
      },
      "source": [
        "- Ejemplo de vocabulario para un tamaño de 6. Por ejemplo, si se quiere entrenar un clasificador que permita identificar los diferentes sentidos de la palabra «hard» y se utilizan para entrenar y validar el modelo las instancias etiquetadas para esta palabra, la bolsa de palabras en el caso de considerar las seis palabras más frecuentes (m=6) sería la presentada anteriormente `['time', 'would', 'get', 'work', 'find', 'make']`."
      ]
    },
    {
      "cell_type": "markdown",
      "metadata": {
        "id": "NmsrbjNzT7fO"
      },
      "source": [
        "Método que devuelve el **vocabulario** formado por las `m` palabras más frecuentes en el contexto de una palabra ambigua a partir de un conjunto de instancias `instances` y el conjunto de palabras no útiles `stopwords`"
      ]
    },
    {
      "cell_type": "code",
      "execution_count": 23,
      "metadata": {
        "id": "cjEAnQX-T7fO"
      },
      "outputs": [],
      "source": [
        "def extract_vocab(instances, stopwords=STOPWORDS_SET, m=250):\n",
        "    \"\"\"\n",
        "    Given a list of senseval instances, return a list of the m most frequent words that\n",
        "    appears in its context (i.e., the sentence with the target word in), output is in order\n",
        "    of frequency.\n",
        "    \"\"\"\n",
        "    return [w for w,f in extract_vocab_frequency(instances,stopwords,m)]"
      ]
    },
    {
      "cell_type": "code",
      "execution_count": 24,
      "metadata": {
        "id": "lZ6bVMRyT7fO"
      },
      "outputs": [],
      "source": [
        "def extract_vocab_frequency(instances, stopwords=STOPWORDS_SET, m=250):\n",
        "    \"\"\"\n",
        "    Given a list of senseval instances, return a list of the m most frequent words that\n",
        "    appears in its context (i.e., the sentence with the target word in), output is in order\n",
        "    of frequency and includes also the number of instances in which that key appears in the\n",
        "    context of instances.\n",
        "    \"\"\"\n",
        "    fd = nltk.FreqDist()\n",
        "    for i in instances:\n",
        "        target = i.context[i.position:i.position+1][0][0]\n",
        "        words = (c[0] for c in i.context if not c[0] == target)\n",
        "        for word in set(words) - set(stopwords):\n",
        "            fd[word] += 1\n",
        "\n",
        "    return fd.most_common(m)"
      ]
    },
    {
      "cell_type": "markdown",
      "metadata": {
        "id": "Oq9qRNtfT7fP"
      },
      "source": [
        "Mostrar el vocabulario de tamaño de 6 para la palabra «hard», es decir el vocabulario creado usando las instancias de la a"
      ]
    },
    {
      "cell_type": "code",
      "execution_count": 25,
      "metadata": {
        "id": "-AqK2I7LT7fP"
      },
      "outputs": [],
      "source": [
        "vocab_6 = extract_vocab(instances_hard, STOPWORDS_SET, m=6)"
      ]
    },
    {
      "cell_type": "code",
      "execution_count": 26,
      "metadata": {
        "colab": {
          "base_uri": "https://localhost:8080/"
        },
        "id": "Pt0zNTtmT7fP",
        "outputId": "ffdf3e1f-c87f-4438-8bd3-b813086f9a81"
      },
      "outputs": [
        {
          "data": {
            "text/plain": [
              "['time', 'would', 'get', 'work', 'find', 'make']"
            ]
          },
          "execution_count": 26,
          "metadata": {},
          "output_type": "execute_result"
        }
      ],
      "source": [
        "vocab_6"
      ]
    },
    {
      "cell_type": "markdown",
      "metadata": {
        "id": "Ku4L9UIWT7fP"
      },
      "source": [
        "#### 2. Construcción del conjunto de características basado en palabras vecinas. "
      ]
    },
    {
      "cell_type": "markdown",
      "metadata": {
        "id": "RevFFmj8T7fP"
      },
      "source": [
        "Utilizando un diccionario en Python para guardar el conjunto de características. La clave del diccionario serán las palabras del vocabulario y el valor debe ser un booleano para indicar la aparición o no de las palabras en el contexto. Por ejemplo, en el vector de características `{'contains(time)': True, 'contains(would)': False, 'contains(get)': False, 'contains(work)': False, 'contains(find)': False, 'contains(make)': False}` una de las claves del diccionario es `'contains(time)'` y su valor es `True`  lo que indica que en el contexto de la palabra ambigua aparece la palabra *«time»*."
      ]
    },
    {
      "cell_type": "markdown",
      "metadata": {
        "id": "Bj0fVlAbT7fQ"
      },
      "source": [
        "Método que devuelve el conjunto de características basado en palabras vecinas para una instancia `instance` a partir de un vocabulario `vocab`"
      ]
    },
    {
      "cell_type": "code",
      "execution_count": 27,
      "metadata": {
        "id": "0kWpbT7zT7fQ"
      },
      "outputs": [],
      "source": [
        "def wsd_caracteristicas_palabras_vecinas(instance, vocab, dist=2):\n",
        "    \"\"\"\n",
        "    Create a featureset where every key returns False unless it occurs in the\n",
        "    instance's context\n",
        "    \"\"\"\n",
        "    features = {}\n",
        "    try:\n",
        "        for w in vocab: features[f\"contains({w})\"] = (w in [tp[0] for tp in instance.context])\n",
        "    except ValueError:\n",
        "        pass\n",
        "    return features"
      ]
    },
    {
      "cell_type": "markdown",
      "metadata": {
        "id": "K2R7_HYQT7fQ"
      },
      "source": [
        "Mostrar el vector de características basado en palabras vecinas para una de las instancias del corpus usando el vocabulario de seis palabras calculado previamente:"
      ]
    },
    {
      "cell_type": "code",
      "execution_count": 28,
      "metadata": {
        "colab": {
          "base_uri": "https://localhost:8080/"
        },
        "id": "VIe-lCpWT7fQ",
        "outputId": "b8e6ebd3-245a-43f6-953b-b786c49e0aad"
      },
      "outputs": [
        {
          "data": {
            "text/plain": [
              "{'contains(time)': True,\n",
              " 'contains(would)': False,\n",
              " 'contains(get)': False,\n",
              " 'contains(work)': False,\n",
              " 'contains(find)': False,\n",
              " 'contains(make)': False}"
            ]
          },
          "execution_count": 28,
          "metadata": {},
          "output_type": "execute_result"
        }
      ],
      "source": [
        "wsd_caracteristicas_palabras_vecinas(inst_hard_1, vocab_6, 0)"
      ]
    },
    {
      "cell_type": "markdown",
      "metadata": {
        "id": "GEgDchyBT7fQ"
      },
      "source": [
        "### Extracción de características basada en características de colocación"
      ]
    },
    {
      "cell_type": "markdown",
      "metadata": {
        "id": "R8jPTMi3T7fQ"
      },
      "source": [
        "**conjunto de características de colocación**. Extraer el vector de características formado por la secuencia de n palabras que ocurren antes de la palabra ambigua y la secuencia de n palabras que ocurren después de la palabra ambigua, los llamados n-gramas."
      ]
    },
    {
      "cell_type": "markdown",
      "metadata": {
        "id": "FYQKq7KyT7fQ"
      },
      "source": [
        "Para una instancia de la palaba ambigua «hard» su contexto se muestra a continuación:"
      ]
    },
    {
      "cell_type": "code",
      "execution_count": 29,
      "metadata": {
        "id": "Vbt7isXDT7fR"
      },
      "outputs": [],
      "source": [
        "inst_hard_2737 = instances_hard[2737]"
      ]
    },
    {
      "cell_type": "code",
      "execution_count": 30,
      "metadata": {
        "colab": {
          "base_uri": "https://localhost:8080/"
        },
        "id": "d3v_wLbRT7fR",
        "outputId": "3591a02e-b3ec-40cd-cb7c-ebb0e49a4977"
      },
      "outputs": [
        {
          "data": {
            "text/plain": [
              "[('``', '``'),\n",
              " ('it', 'PRP'),\n",
              " (\"'s\", 'VBZ'),\n",
              " ('a', 'DT'),\n",
              " ('very', 'RB'),\n",
              " ('interesting', 'JJ'),\n",
              " ('place', 'NN'),\n",
              " ('to', 'TO'),\n",
              " ('work', 'VB'),\n",
              " (',', ','),\n",
              " ('but', 'CC'),\n",
              " ('i', 'PRP'),\n",
              " ('can', 'MD'),\n",
              " ('see', 'VB'),\n",
              " ('why', 'WRB'),\n",
              " ('some', 'DT'),\n",
              " ('people', 'NNS'),\n",
              " ('have', 'VBP'),\n",
              " ('a', 'DT'),\n",
              " ('hard', 'JJ'),\n",
              " ('time', 'NN'),\n",
              " ('imagining', 'VBG'),\n",
              " ('what', 'WP'),\n",
              " ('it', 'PRP'),\n",
              " (\"'s\", 'VBZ'),\n",
              " ('like', 'IN'),\n",
              " (',', ','),\n",
              " ('\"', '\"'),\n",
              " ('says', 'VBZ'),\n",
              " ('nate', 'NNP'),\n",
              " ('gossett', 'NNP'),\n",
              " ('.', '.')]"
            ]
          },
          "execution_count": 30,
          "metadata": {},
          "output_type": "execute_result"
        }
      ],
      "source": [
        "inst_hard_2737.context"
      ]
    },
    {
      "cell_type": "markdown",
      "metadata": {
        "id": "nKU1zfu5T7fR"
      },
      "source": [
        "Entonces el vector de características de colocación para el bigrama anterior y posterior sería:"
      ]
    },
    {
      "cell_type": "markdown",
      "metadata": {
        "id": "x1jTTS9kT7fR"
      },
      "source": [
        "`{'previous(have a)': True, 'next(time imagining)': True}` "
      ]
    },
    {
      "cell_type": "markdown",
      "metadata": {
        "id": "sEGHyZ5cT7fR"
      },
      "source": [
        "Este vector de características indica que antes de la palabra ambigua se encuentran las palabras *«have a»* y después de la palabra ambigua las palabras *«time imagining»*. "
      ]
    },
    {
      "cell_type": "markdown",
      "metadata": {
        "id": "LXQ0jdYCT7fR"
      },
      "source": [
        "- Usando un diccionario en Python para guardar el conjunto de características, la clave del diccionario debe indicar la secuencia de palabras de contexto y si aparecen antes o después de la palabra ambigua y el valor asociado a la clave debe ser un booleano verdadero. Ejemplo  **n=2**."
      ]
    },
    {
      "cell_type": "markdown",
      "metadata": {
        "id": "qKEDOkF-T7fS"
      },
      "source": [
        "- Por ejemplo, en el vector de características `{'previous(have a)': True, 'next(time imagining)': True}` una de las claves del diccionario es `'previous(have a)'` y su valor es `True` lo que indica que antes de la palabra ambigua se encuentran las palabras *«have a»*. En este caso, al tener secuencias de dos palabras (*n=2*), se están considerando bigramas y la ventana tendría tamaño cinco (*2n+1*). Por lo tanto, si la palabra ambigua es *«hard» en el contexto guardado en el campo context de la instancia, aparece la siguiente parte de la frase «have a hard time imagining»."
      ]
    },
    {
      "cell_type": "markdown",
      "metadata": {
        "id": "s9gRJxFUT7fS"
      },
      "source": [
        "- Se deben tener en cuenta los posibles casos en los que la palabra ambigua aparezca al principio o final de la frase. Por ejemplo, para la instancia cuyo contexto es: `[('some', 'DT'), ('hard', 'JJ'), ('choices', 'NNS'), ('had', 'VBD'), ('to', 'TO'), ('be', 'VB'), ('made', 'VBN'), …]` si n=2 se debe obtener el siguiente vector de características: `{'previous(some)': True, 'next(choices had)': True}`."
      ]
    },
    {
      "cell_type": "markdown",
      "metadata": {
        "id": "2CQuaxwrT7fS"
      },
      "source": [
        "Método que devuelve el conjunto de características de colocación para una instancia `instance` usando los n-gramas anterior y posterior donde la longitud de secuencia es de `dist` palabras."
      ]
    },
    {
      "cell_type": "code",
      "execution_count": 31,
      "metadata": {
        "colab": {
          "base_uri": "https://localhost:8080/"
        },
        "id": "jqXcIdc8Q6lT",
        "outputId": "4d9805b9-f5de-416d-f294-3f1a41520309"
      },
      "outputs": [
        {
          "name": "stdout",
          "output_type": "stream",
          "text": [
            "[('``', 'it', \"'s\"), ('it', \"'s\", 'a'), (\"'s\", 'a', 'very'), ('a', 'very', 'interesting'), ('very', 'interesting', 'place'), ('interesting', 'place', 'to'), ('place', 'to', 'work'), ('to', 'work', ','), ('work', ',', 'but'), (',', 'but', 'i'), ('but', 'i', 'can'), ('i', 'can', 'see'), ('can', 'see', 'why'), ('see', 'why', 'some'), ('why', 'some', 'people'), ('some', 'people', 'have'), ('people', 'have', 'a'), ('have', 'a', 'hard'), ('a', 'hard', 'time'), ('hard', 'time', 'imagining'), ('time', 'imagining', 'what'), ('imagining', 'what', 'it'), ('what', 'it', \"'s\"), ('it', \"'s\", 'like'), (\"'s\", 'like', ','), ('like', ',', '\"'), (',', '\"', 'says'), ('\"', 'says', 'nate'), ('says', 'nate', 'gossett'), ('nate', 'gossett', '.')]\n"
          ]
        }
      ],
      "source": [
        "from nltk import ngrams\n",
        "\n",
        "ngram = ngrams([tp[0] for tp in inst_hard_2737.context],3)\n",
        "\n",
        "#for grams in ngram:\n",
        "#  print (grams)\n",
        "\n",
        "print(list(ngram))\n"
      ]
    },
    {
      "cell_type": "code",
      "execution_count": 32,
      "metadata": {
        "id": "tQkCOLxbT7fS"
      },
      "outputs": [],
      "source": [
        "from nltk import ngrams\n",
        "\n",
        "def wsd_caracteristicas_colocacion(instance, vocab, dist=2):\n",
        "    features = {}\n",
        "    p = instance.position\n",
        "    con = instance.context\n",
        "       \n",
        "    try:\n",
        "\n",
        "      if p >= dist:\n",
        "        features[f\"previous({' '.join(w1 for (w1,t1) in con[p-dist:p])})\"] = True\n",
        "      elif p == 1:\n",
        "        features[f\"previous({' '.join(w2 for (w2,t2) in con[p-1:p])})\"] = True\n",
        "      elif p == 0:\n",
        "        features[f\"previous( )\"] = True\n",
        "\n",
        "      if p < len(con) - dist:\n",
        "        features[f\"next({' '.join(w1 for (w1,t1) in con[p+1:p+dist+1])})\"] = True\n",
        "      elif p == len(con) - dist:\n",
        "        features[f\"next({' '.join(w2 for (w2,t2) in con[p+1:p+2])})\"] = True\n",
        "      elif p == len(con) - dist + 1:\n",
        "        features[f\"next( )\"] = True\n",
        "\n",
        "    except ValueError:\n",
        "        pass      \n",
        "    return features"
      ]
    },
    {
      "cell_type": "code",
      "execution_count": 33,
      "metadata": {
        "colab": {
          "base_uri": "https://localhost:8080/"
        },
        "id": "itYv1mGET7fT",
        "outputId": "797964d9-2c47-452e-81a0-98d16587ab74"
      },
      "outputs": [
        {
          "data": {
            "text/plain": [
              "{'previous(have a)': True, 'next(time imagining)': True}"
            ]
          },
          "execution_count": 33,
          "metadata": {},
          "output_type": "execute_result"
        }
      ],
      "source": [
        "wsd_caracteristicas_colocacion(inst_hard_2737, 0, 2)"
      ]
    },
    {
      "cell_type": "markdown",
      "metadata": {
        "id": "y-uAj4pWT7fT"
      },
      "source": [
        "### Extracción de características por el método de emmbedings (Wordvectors) (Método propuesto)\n",
        "\n",
        "Se propone como tercer método el uso de vectores de palabras para la extracción de catacterísticas. Este método hace uso de las representaciones vectoriales mediante métodos no supervisados que exploran el contexto de la palabra. La codificación de vectores de palabras se puede utilizar mediante la librería Gensim con el método Word2Vec. El siguiente es el ejemplo de implementación de la extacción de características usando word2vec\n"
      ]
    },
    {
      "cell_type": "code",
      "execution_count": 34,
      "metadata": {
        "id": "epWyglWaXnRX"
      },
      "outputs": [
        {
          "ename": "OSError",
          "evalue": "[Errno 45] Operation not supported",
          "output_type": "error",
          "traceback": [
            "\u001b[0;31m---------------------------------------------------------------------------\u001b[0m",
            "\u001b[0;31mOSError\u001b[0m                                   Traceback (most recent call last)",
            "\u001b[1;32m/Volumes/GoogleDrive/My Drive/PERSONAL/MÁSTER IA/II CUATRIMESTRE/NLP/Actividad 3/Desambiguacion_palabras.ipynb Cell 86'\u001b[0m in \u001b[0;36m<cell line: 1>\u001b[0;34m()\u001b[0m\n\u001b[0;32m----> <a href='vscode-notebook-cell:/Volumes/GoogleDrive/My%20Drive/PERSONAL/M%C3%81STER%20IA/II%20CUATRIMESTRE/NLP/Actividad%203/Desambiguacion_palabras.ipynb#ch0000085?line=0'>1</a>\u001b[0m \u001b[39mimport\u001b[39;00m \u001b[39mgensim\u001b[39;00m\n\u001b[1;32m      <a href='vscode-notebook-cell:/Volumes/GoogleDrive/My%20Drive/PERSONAL/M%C3%81STER%20IA/II%20CUATRIMESTRE/NLP/Actividad%203/Desambiguacion_palabras.ipynb#ch0000085?line=1'>2</a>\u001b[0m \u001b[39mfrom\u001b[39;00m \u001b[39mgensim\u001b[39;00m\u001b[39m.\u001b[39;00m\u001b[39mmodels\u001b[39;00m \u001b[39mimport\u001b[39;00m Word2Vec\n\u001b[1;32m      <a href='vscode-notebook-cell:/Volumes/GoogleDrive/My%20Drive/PERSONAL/M%C3%81STER%20IA/II%20CUATRIMESTRE/NLP/Actividad%203/Desambiguacion_palabras.ipynb#ch0000085?line=3'>4</a>\u001b[0m \u001b[39m# Create Skip Gram model\u001b[39;00m\n",
            "File \u001b[0;32m<frozen importlib._bootstrap>:991\u001b[0m, in \u001b[0;36m_find_and_load\u001b[0;34m(name, import_)\u001b[0m\n",
            "File \u001b[0;32m<frozen importlib._bootstrap>:971\u001b[0m, in \u001b[0;36m_find_and_load_unlocked\u001b[0;34m(name, import_)\u001b[0m\n",
            "File \u001b[0;32m<frozen importlib._bootstrap>:914\u001b[0m, in \u001b[0;36m_find_spec\u001b[0;34m(name, path, target)\u001b[0m\n",
            "File \u001b[0;32m<frozen importlib._bootstrap_external>:1407\u001b[0m, in \u001b[0;36mfind_spec\u001b[0;34m(cls, fullname, path, target)\u001b[0m\n",
            "File \u001b[0;32m<frozen importlib._bootstrap_external>:1376\u001b[0m, in \u001b[0;36m_get_spec\u001b[0;34m(cls, fullname, path, target)\u001b[0m\n",
            "File \u001b[0;32m<frozen importlib._bootstrap_external>:1340\u001b[0m, in \u001b[0;36m_path_importer_cache\u001b[0;34m(cls, path)\u001b[0m\n",
            "\u001b[0;31mOSError\u001b[0m: [Errno 45] Operation not supported"
          ]
        }
      ],
      "source": [
        "import gensim\n",
        "from gensim.models import Word2Vec\n",
        "\n",
        "# Create Skip Gram model\n",
        "\n",
        "def wsd_caracteristicas_wordvectors(instance, dist=2, window=2 ):\n",
        "    features = {}\n",
        "    p = instance.position\n",
        "    con = instance.context\n",
        "    model = gensim.models.Word2Vec([tp[0] for tp in con], min_count = 1, size = dist,\n",
        "                                             window = window, sg = 1)\n",
        "\n",
        "    return model "
      ]
    },
    {
      "cell_type": "markdown",
      "metadata": {
        "id": "u0NQ1lRxT7fT"
      },
      "source": [
        "# **Parte 3: Entrenamiento de clasificadores**"
      ]
    },
    {
      "cell_type": "code",
      "execution_count": null,
      "metadata": {
        "id": "iB_9ahzPT7fU"
      },
      "outputs": [],
      "source": [
        "from nltk.classify import accuracy, NaiveBayesClassifier, DecisionTreeClassifier\n",
        "from nltk import ConfusionMatrix"
      ]
    },
    {
      "cell_type": "markdown",
      "metadata": {
        "id": "MYZn383BT7fU"
      },
      "source": [
        "Una vez haya importado los paquetes anteriores, para entrenar un clasificador Naïve Bayes puedes usar el comando `NaiveBayesClassifier.train()` y para evaluarlo `accuracy()`. Se puede utilizar el clasificador entrenado para clasificar una instancia utilizando su método `classify()`."
      ]
    },
    {
      "cell_type": "markdown",
      "metadata": {
        "id": "f63TKMi5T7fU"
      },
      "source": [
        "### 1.\tEntrenamiento de dos clasificadores para la palabra «hard». "
      ]
    },
    {
      "cell_type": "code",
      "execution_count": null,
      "metadata": {
        "id": "4JoANswHT7fV"
      },
      "outputs": [],
      "source": [
        "import random\n",
        "import matplotlib.pyplot as plt  \n",
        "from sklearn.metrics import confusion_matrix, ConfusionMatrixDisplay\n",
        "import seaborn as sns\n",
        "import numpy as np\n",
        "from sklearn.metrics import f1_score, accuracy_score\n",
        "import itertools"
      ]
    },
    {
      "cell_type": "code",
      "execution_count": null,
      "metadata": {
        "id": "iaufCE16fZCf"
      },
      "outputs": [],
      "source": [
        "# Función auxiliar para imprimir la matriz de confusion y las métricas\n",
        "\n",
        "def plot_confusion_matrix_local(y_test, y_predicted,\n",
        "                          target_names,\n",
        "                          title='Confusion matrix',\n",
        "                          cmap=None,\n",
        "                          normalize=True):\n",
        "\n",
        "    # Calculate metrics\n",
        "    accuracy = accuracy_score(y_test, y_predicted)\n",
        "    f1score =  np.array2string(f1_score(y_test, y_predicted, average=None), precision=2, separator=',',  suppress_small=True)\n",
        "    misclass = 1 - accuracy\n",
        "    cm = confusion_matrix(y_test, y_predicted)\n",
        "\n",
        "    if cmap is None:\n",
        "        cmap = plt.get_cmap('Blues')\n",
        "\n",
        "    plt.figure(figsize=(4, 4))\n",
        "    plt.imshow(cm, interpolation='nearest', cmap=cmap)\n",
        "    plt.title(title)\n",
        "\n",
        "    if target_names is not None:\n",
        "        tick_marks = np.arange(len(target_names))\n",
        "        plt.xticks(tick_marks, target_names, rotation=45)\n",
        "        plt.yticks(tick_marks, target_names)\n",
        "\n",
        "    if normalize:\n",
        "        cm = cm.astype('float') / cm.sum(axis=1)[:, np.newaxis]\n",
        "\n",
        "    thresh = cm.max() / 1.5 if normalize else cm.max() / 2\n",
        "    for i, j in itertools.product(range(cm.shape[0]), range(cm.shape[1])):\n",
        "        if normalize:\n",
        "            plt.text(j, i, \"{:0.4f}\".format(cm[i, j]),\n",
        "                     horizontalalignment=\"center\",\n",
        "                     color=\"white\" if cm[i, j] > thresh else \"black\")\n",
        "        else:\n",
        "            plt.text(j, i, \"{:,}\".format(cm[i, j]),\n",
        "                     horizontalalignment=\"center\",\n",
        "                     color=\"white\" if cm[i, j] > thresh else \"black\")\n",
        "\n",
        "    plt.tight_layout()\n",
        "    plt.ylabel('True label')\n",
        "    plt.xlabel(f\"Predicted label\\n\\nAccuracy={float('{:.2f}'.format(accuracy))}\\nMisclass={float('{:.2f}'.format(misclass))}\\nF1-Score={f1score}\")\n",
        "    plt.show()"
      ]
    },
    {
      "cell_type": "code",
      "execution_count": null,
      "metadata": {
        "id": "LHfd0NXeT7fV"
      },
      "outputs": [],
      "source": [
        "def wsd_clasificador(nltk_classifier, word, features, stopwords_list = STOPWORDS_SET, number=250, distance=2, print_metrics=True, errors=False, confusion_matrix=False):\n",
        "    \"\"\"\n",
        "    This function takes as arguments:\n",
        "        a target word from senseval2;\n",
        "        a feature set (this can be wsd_caracteristicas_palabras_vecinas or wsd_caracteristicas_colocacion);\n",
        "        a list of stopwords \n",
        "        a number (defaults to 250), which determines for wsd_caracteristicas_palabras_vecinas the number of\n",
        "            most frequent words within the context of a given sense that you use to classify examples;\n",
        "        a distance (defaults to 2) which determines the size of the window for wsd_caracteristicas_colocacion;\n",
        "        errors (defaults to false), which if set to True prints the errors;\n",
        "        confusion_matrix (defaults to False), which if set to True prints a confusion matrix.\n",
        "\n",
        "    Calling this function splits the senseval data for the word into a training set and a test set (the way it does\n",
        "    this is the same for each call of this function, because the argument to random.seed is specified,\n",
        "    but removing this argument would make the training and testing sets different each time you build a classifier).\n",
        "\n",
        "    It then trains the trainer on the training set to create a classifier that performs WSD on the word,\n",
        "    using features (with number or distance where relevant).\n",
        "\n",
        "    It then tests the classifier on the test set, and prints its accuracy on that set.\n",
        "\n",
        "    If error==True, then the errors of the classifier over the test set are printed out.\n",
        "    For each error four things are recorded: (i) the example number within the test data (this is simply the index of the\n",
        "    example within the list test_data); (ii) the sentence that the target word appeared in, (iii) the\n",
        "    (incorrect) derived label, and (iv) the good label.\n",
        "\n",
        "    If confusion_matrix==True, then calling this function prints out a confusion matrix, where each cell [i,j]\n",
        "    indicates how often label j was predicted when the correct label was i (so the diagonal entries indicate labels\n",
        "    that were correctly predicted).\n",
        "    \"\"\"\n",
        "    \n",
        "    events = [(i, i.senses[0]) for i in senseval.instances(word)]\n",
        "    senses = list(set(l for (i, l) in events))\n",
        "    instances = [i for (i, l) in events]\n",
        " \n",
        "    # Extract the vocabulary\n",
        "    vocab = extract_vocab(instances, stopwords=stopwords_list, m=number)\n",
        "\n",
        "    # Split the instances into a training and test set    \n",
        "    n = len(events)\n",
        "    random.seed(5444522)\n",
        "    random.shuffle(events)\n",
        "    training_data = events[:int(0.8 * n)]\n",
        "    test_data = events[int(0.8 * n):n]\n",
        "\n",
        "    # Train classifier\n",
        "    classifier = nltk_classifier([(features(i, vocab, distance), label) for (i, label) in training_data]) \n",
        "    \n",
        "    #NaiveBayesClassifier.train   \n",
        "     \n",
        "    good = [label for (i, label) in test_data]\n",
        "    derived = [classifier.classify(features(i,vocab)) for (i,label) in test_data]\n",
        "    \n",
        "    if print_metrics==True:\n",
        "      print(\"MODEL METRICS: \")\n",
        "      print(f\"ACCURACY: {accuracy_score(good, derived)}\")\n",
        "      print(f\"F1-SCORE: {f1_score(good, derived, average=None)}\")\n",
        "\n",
        "    if errors==True:\n",
        "                 \n",
        "        errors = []\n",
        "        for (i, label) in test_data:\n",
        "            # Classify the instance\n",
        "            guess = classifier.classify(features(i, vocab, distance))\n",
        "            if guess != label:\n",
        "                con =  i.context\n",
        "                position = i.position\n",
        "                item_number = str(test_data.index((i, label)))\n",
        "                word_list = []\n",
        "                for (word, tag) in con:\n",
        "                    word_list.append(word)\n",
        "                hard_highlighted = word_list[position].upper()\n",
        "                word_list_highlighted = word_list[0:position] + [hard_highlighted] + word_list[position+1:]\n",
        "                sentence = ' '.join(word_list_highlighted)\n",
        "                errors.append([item_number, sentence, guess,label])\n",
        "        error_number = len(errors)\n",
        "        \n",
        "        print('\\n' + '\\n' + 'There are ' + str(error_number) + ' errors!' + '\\n' + '----------------------------' + '\\n' + '\\n')\n",
        "        \n",
        "        for error in errors:\n",
        "            print(str(errors.index(error)+1) +') ' + 'example number: ' + error[0] + '\\n' + '    sentence: ' + error[1] + '\\n' + '    guess: ' + error[2] + ';  label: ' + error[3] + '\\n' + '\\n') \n",
        "\n",
        "    if confusion_matrix==True:\n",
        "\n",
        "        # Get confusion matrix\n",
        "        cm = ConfusionMatrix(good, derived)\n",
        "        plot_confusion_matrix_local(good, derived, \n",
        "                                    target_names=list(cm._indices.keys()),\n",
        "                                    title='Matriz de confusión',\n",
        "                                    cmap=\"Blues\",\n",
        "                                    normalize=False)\n",
        "\n",
        "    return classifier"
      ]
    },
    {
      "cell_type": "markdown",
      "metadata": {
        "id": "LWePsS5TT7fW"
      },
      "source": [
        "### 2.\tValidación de los clasificadores para la palabra «hard».  "
      ]
    },
    {
      "cell_type": "code",
      "execution_count": null,
      "metadata": {
        "colab": {
          "base_uri": "https://localhost:8080/",
          "height": 358
        },
        "id": "QWz_URI5T7fW",
        "outputId": "0b7c06ea-c3b4-4866-edd7-96b64f31f803"
      },
      "outputs": [
        {
          "data": {
            "image/png": "[encoded data removed]",
            "text/plain": [
              "<Figure size 288x288 with 1 Axes>"
            ]
          },
          "metadata": {},
          "output_type": "display_data"
        }
      ],
      "source": [
        "clasificador_hard_vecinas = wsd_clasificador(NaiveBayesClassifier.train,'hard.pos', wsd_caracteristicas_palabras_vecinas, print_metrics=False, number=250, errors=False, confusion_matrix=True)"
      ]
    },
    {
      "cell_type": "code",
      "execution_count": null,
      "metadata": {
        "colab": {
          "base_uri": "https://localhost:8080/",
          "height": 358
        },
        "id": "gHFLp5HbT7fX",
        "outputId": "95b3b4c6-43da-4f3d-d8ed-d93121785eee"
      },
      "outputs": [
        {
          "data": {
            "image/png": "[encoded data removed]",
            "text/plain": [
              "<Figure size 288x288 with 1 Axes>"
            ]
          },
          "metadata": {},
          "output_type": "display_data"
        }
      ],
      "source": [
        "clasificador_hard_colocacion = wsd_clasificador(NaiveBayesClassifier.train,'hard.pos', wsd_caracteristicas_colocacion, distance=2, print_metrics=False, errors=False, confusion_matrix=True)"
      ]
    },
    {
      "cell_type": "code",
      "execution_count": null,
      "metadata": {
        "colab": {
          "base_uri": "https://localhost:8080/",
          "height": 358
        },
        "id": "VLZhGXiWwnk7",
        "outputId": "1844ffcc-7c86-4efd-c9e6-e9d0f2a6c6eb"
      },
      "outputs": [
        {
          "data": {
            "image/png": "[encoded data removed]",
            "text/plain": [
              "<Figure size 288x288 with 1 Axes>"
            ]
          },
          "metadata": {},
          "output_type": "display_data"
        }
      ],
      "source": [
        "clasificador_hard_vecinas = wsd_clasificador(DecisionTreeClassifier.train,'hard.pos', wsd_caracteristicas_palabras_vecinas, print_metrics=False, number=250, errors=False, confusion_matrix=True)"
      ]
    },
    {
      "cell_type": "code",
      "execution_count": null,
      "metadata": {
        "colab": {
          "base_uri": "https://localhost:8080/",
          "height": 358
        },
        "id": "U6lnl7SbxuiT",
        "outputId": "7338e002-4717-4757-c2be-0b39b0c22559"
      },
      "outputs": [],
      "source": [
        "clasificador_hard_colocacion = wsd_clasificador(DecisionTreeClassifier.train,'hard.pos', wsd_caracteristicas_colocacion, distance=2, print_metrics=False, errors=False, confusion_matrix=True)"
      ]
    },
    {
      "cell_type": "markdown",
      "metadata": {
        "id": "CoP_q5RMT7fX"
      },
      "source": [
        "Comparación de resulados:"
      ]
    },
    {
      "cell_type": "markdown",
      "metadata": {
        "id": "7NnNxAGZT7fX"
      },
      "source": [
        "Se elabora una matriz de comparación con los resultados obtenidos para los calsificadodores implementados y los modelos de extracción de características:\n",
        "\n",
        "| Clasificador  | Extracción de   características | F1-SCORE |       |       | ACCURACY |\n",
        "|---------------|---------------------------------|:--------:|:-----:|:-----:|:--------:|\n",
        "|               |                                 |   HARD1  | HARD2 | HARD3 |          |\n",
        "| Bayes         | Palabras vecinas                |   0.92   |  0.55 |  0.48 |   0.86   |\n",
        "| Bayes         | Colocacion                      |   0.94   |  0.72 |  0.52 |   0.89   |\n",
        "| Decision Tree | Palabras vecinas                |   0.92   |  0.58 |  0.46 |   0.87   |\n",
        "| Decision Tree | Colocacion                      |   0.93   |  0.64 |  0.41 |   0.88   |\n",
        "\n",
        "\n",
        "En la tabla se comparan los valores de **F1-score** y **Accuracy**. Debido a que se presenta un desbalanceo de clases (El sentido HARD1 tiene más ejemplos que los sentidos HARD2 y HARD3 en el dataset). Para estos casos se recomienda aplicar la métrica de F1-Score para mejorar la discrimación por clase. Teniendo en cuenta estas dos métricas podemos observar que el **clasificador de colocación de Bayes presente un mejor desempeño en F1-score y accuracy.**"
      ]
    },
    {
      "cell_type": "markdown",
      "metadata": {
        "id": "ETQTUSJwT7fX"
      },
      "source": [
        "Teniendo en cuenta los resultados anteriores, podemos observar que para el sentido **HARD3** se tienen los valores más bajos de F1-SCORE lo que indica que este sentidos presenta el mayor número de errores del clasificador.\n"
      ]
    },
    {
      "cell_type": "markdown",
      "metadata": {
        "id": "M9t1ElJuT7fX"
      },
      "source": [
        "Para mejorar el desempeño de los clasificadores para el dataset utilizado se han identificado las siguientes optimizaciones aplicables:\n",
        "\n",
        "*   Mejorar el balance de clases por ejemplo utilizando alguno de los siguientes métodos.\n",
        "  - Tratando de utilizar un dataset etiquetados más amplio que tenga más ejemplos para los sentidos HARD2 y HARD3\n",
        "  - Aplicar la métrica de F1-Score para mejorar el entrenamiento del clasificador, penalizando las clases con mucha frecuencia en pro de las clases con menor frecuencia.\n",
        "  - Utilizar un modelo de muestreo selectivo sobre cada clase para obtener submuestras con mejor balance.\n",
        "\n",
        "* Utilizar un modelo de extracción de características más avanzado por ejemplo usando representaciones vectoriales o con modelos de lenguaje pre-entrenados.\n",
        "\n",
        "* Utilizar clasificadores más robustos como redes neuronales o xboosting que puedan capturar una mayor especificidad de las clases menos dominantes.\n",
        "\n",
        "\n",
        "\n"
      ]
    },
    {
      "cell_type": "markdown",
      "metadata": {
        "id": "VMIyoqdWT7fY"
      },
      "source": [
        "### 3.\tInstancias clasificadas incorrectamente para «hard».   "
      ]
    },
    {
      "cell_type": "code",
      "execution_count": null,
      "metadata": {
        "colab": {
          "base_uri": "https://localhost:8080/"
        },
        "id": "F60etK-kT7fY",
        "outputId": "1d02491f-592f-47e8-8e9b-a8bf126222e2",
        "scrolled": true
      },
      "outputs": [],
      "source": [
        "clasificador_hard_colocacion = wsd_clasificador(NaiveBayesClassifier.train, 'hard.pos', wsd_caracteristicas_colocacion, distance=2, print_metrics=False, errors=True, confusion_matrix=False)"
      ]
    },
    {
      "cell_type": "markdown",
      "metadata": {
        "id": "Vc2l_xdjT7fY"
      },
      "source": []
    },
    {
      "cell_type": "markdown",
      "metadata": {
        "id": "LL5KKsHdT7fY"
      },
      "source": [
        "### 4.\tEntrenamiento y validación de dos clasificadores para la palabra «serve».   "
      ]
    },
    {
      "cell_type": "code",
      "execution_count": null,
      "metadata": {
        "colab": {
          "base_uri": "https://localhost:8080/",
          "height": 358
        },
        "id": "kqAuEPwcT7fZ",
        "outputId": "373fdb0e-bdd3-484f-e06e-6d522cb837e8"
      },
      "outputs": [],
      "source": [
        "clasificador_serve_vecinas = wsd_clasificador(NaiveBayesClassifier.train, 'serve.pos', wsd_caracteristicas_palabras_vecinas, number=250, print_metrics=False, confusion_matrix=True)"
      ]
    },
    {
      "cell_type": "code",
      "execution_count": null,
      "metadata": {
        "colab": {
          "base_uri": "https://localhost:8080/",
          "height": 358
        },
        "id": "ygTC_d3zT7fZ",
        "outputId": "0a8dc686-20b8-46cf-d184-b413218f3499"
      },
      "outputs": [],
      "source": [
        "clasificador_serve_colocacion = wsd_clasificador(NaiveBayesClassifier.train, 'serve.pos', wsd_caracteristicas_colocacion, distance=2, print_metrics=False, errors=False, confusion_matrix=True)"
      ]
    },
    {
      "cell_type": "code",
      "execution_count": null,
      "metadata": {
        "colab": {
          "base_uri": "https://localhost:8080/",
          "height": 358
        },
        "id": "kCClxK39-RqY",
        "outputId": "40b91cb9-6ff2-4894-aae8-09c7d0a851b4"
      },
      "outputs": [],
      "source": [
        "clasificador_serve_vecinas = wsd_clasificador(DecisionTreeClassifier.train, 'serve.pos', wsd_caracteristicas_palabras_vecinas, number=250, print_metrics=False, confusion_matrix=True)"
      ]
    },
    {
      "cell_type": "code",
      "execution_count": null,
      "metadata": {
        "colab": {
          "base_uri": "https://localhost:8080/",
          "height": 358
        },
        "id": "wdeB1wJi-RzX",
        "outputId": "6f3a8493-669b-46bc-aad4-8bb738815439"
      },
      "outputs": [],
      "source": [
        "clasificador_serve_colocacion = wsd_clasificador(DecisionTreeClassifier.train, 'serve.pos', wsd_caracteristicas_colocacion, distance=2, print_metrics=False, errors=False, confusion_matrix=True)"
      ]
    },
    {
      "cell_type": "markdown",
      "metadata": {
        "id": "9Gf6ElwhT7fZ"
      },
      "source": [
        "### 5.\tAnálisis de resultados del rendimiento de los clasificadores. "
      ]
    },
    {
      "cell_type": "markdown",
      "metadata": {
        "id": "nVIAoYVxT7fZ"
      },
      "source": [
        "| Clasificador  | Extracción de   características | F1-SCORE |         |        |        | ACCURACY |\n",
        "|---------------|---------------------------------|:--------:|:-------:|:------:|:------:|:--------:|\n",
        "|               |                                 |          |         |        |        |          |\n",
        "|               |                                 |   HARD1  |  HARD2  |  HARD3 |        |          |\n",
        "| Bayes         | Palabras vecinas                |   0.92   |   0.55  |  0.48  |        |   0.86   |\n",
        "| Bayes         | Colocacion                      |   0.94   |   0.72  |  0.52  |        |   0.89   |\n",
        "| Decision Tree | Palabras vecinas                |   0.92   |   0.58  |  0.46  |        |   0.87   |\n",
        "| Decision Tree | Colocacion                      |   0.93   |   0.64  |  0.41  |        |   0.88   |\n",
        "|               |                                 |          |         |        |        |          |\n",
        "|               |                                 |  SERVE10 | SERVE12 | SERVE2 | SERVE6 |          |\n",
        "| Bayes         | Palabras vecinas                |   0.85   |   0.78  |  0.54  |  0.59  |   0.74   |\n",
        "| Bayes         | Colocacion                      |   0.83   |   0.76  |  0.72  |  0.48  |   0.77   |\n",
        "| Decision Tree | Palabras vecinas                |    0.8   |   0.74  |  0.37  |  0.48  |   0.69   |\n",
        "| Decision Tree | Colocacion                      |   0.74   |   0.59  |  0.64  |  0.17  |   0.66   |"
      ]
    },
    {
      "cell_type": "markdown",
      "metadata": {
        "id": "y7mJDVmpT7fa"
      },
      "source": [
        "**Observaciones:**\n",
        "\n",
        "Existen varias razones para considerar cada modelo y sus resultados entre los que se pueden mencionar:\n",
        "\n",
        "*   Los conjuntos de datos tienen diferentes cantidades de ejemplos y clases\n",
        "*   El conjunto de **hard.pos** presenta mayor desbalanceo que el conjunto de **serve.pos**\n",
        "*   A mayor número de clases parace que se requieren modelos más robustos para lograr un mejor desempeño del clasificador.\n",
        "\n",
        "\n"
      ]
    },
    {
      "cell_type": "markdown",
      "metadata": {
        "id": "BwcuFq8RT7fa"
      },
      "source": [
        "Se tendrían que utilizar conjuntos de datos que consideraran ambas palabras como datos de entrada con más clases de salida y más instancias para el entrenamiento. para determinar el desempeño de dos o más clasificadores se debe considerar un solo conjunto de datos que sea de igual entrada para los dos modelos."
      ]
    },
    {
      "cell_type": "markdown",
      "metadata": {
        "id": "Fv769eV1T7fa"
      },
      "source": [
        "Un clasificador aleoterio en el mejor de los casos podría lograr un 0.5 de accuracy pero en general puede estar en el orden inferior al 0.2. Con esto en mente podemos ver que el clasificador de bayer con extracción de características basadas en colocación tuvo el mejor desempeño en ambos casos:\n",
        "\n",
        "*   hard.pos  Accuracy: 0.89\n",
        "*   serve.pos Accuracy: 0.77"
      ]
    },
    {
      "cell_type": "markdown",
      "metadata": {
        "id": "0VJlgHxfT7fa"
      },
      "source": [
        "<span style=\"font-size: 14pt; font-weight: bold; color: #0098cd;\">Parte 4: \n",
        "Conclusiones sobre el uso de aprendizaje automático supervisado para desambiguar el sentido de las palabras</span>\n",
        "\n",
        "Una vez hayas implementado diferentes clasificadores para desambiguar el sentido de diferentes palabras y analizado su desempeño, reflexiona sobre el uso de algoritmos basados en aprendizaje automático supervisado para resolver la tarea de desambiguación del sentido de las palabras. Para ello responde de forma razonada a las siguientes preguntas:"
      ]
    },
    {
      "cell_type": "markdown",
      "metadata": {
        "id": "K53uutEVT7fb"
      },
      "source": [
        "Los clasificadores considerados NayiveBayer y DecisionTree, curiosamente presentan un buen resultado en general para ser modelos muy sencillos, perosolo funcionan adecuadamente para palabras individuales (En los casos utilizados HARD y SERVE) con pocas clases. Si se tratara de utilizar un modelo de generalización que cubriera más palabras y sentidos estos modelos tendrían mucha dificultad debido a la alta dimensionalidad de las características que se requerirían y la cantidad de clases para cada uno de los sentidos. Los modelos son lentos para entrenar con muchos datos, como en el caso de los arboles de decisión que tomaron más de 20 minutos de entrenamiento para un conjunto de características de menos de 10.000 instancias.\n"
      ]
    },
    {
      "cell_type": "markdown",
      "metadata": {
        "id": "-ajfsRqBT7fb"
      },
      "source": [
        "Ralizando una revisión de diferentes aproximaciones utilizados e investigación en desambiguación, algunas de las recomendaciones que se han alcanzado para mejorar el desempeño de los sistemas de desambiguación son:\n",
        "\n",
        "*   Uso de dataset más amplios que senseval2 (Ejemplo senseval 3 o LeskCorpus)\n",
        "*   Utilizando de modelos de aprendizaje basados en grafos para que se pueda capturar la interrelación de las palabras y los diferente sentidos\n",
        "*   Utilización de modelos de representación de características basados en vectores (Embeddings)\n",
        "* Utilizar modelo de lenguaje como BERT o GPT que han sido pre-entrenados con conjuntos masivos de datos.\n",
        "*   Integrar modelos de aprendizaje supervisado y aprendizaje semi-supervisados con métodoso basados en tesauros y diccionarios (Por ejemplo usando wordnet)\n",
        "\n",
        "\n",
        "**Referencias:**\n",
        "\n",
        "- Improved Word Sense Disambiguation Using Pre-Trained Contextualized Word Representations, Hadiwinoto et all. https://arxiv.org/abs/1910.00194\n",
        "- Named Entity Disambiguation Boosted with Knowledge Graphs. https://towardsdatascience.com/\n",
        "- NE disambiguation boosted with knowledge graphs. named-entity-disambiguation-boosted-with-knowledge-graphs-4a93a94381ef\n",
        "https://web.stanford.edu/~jurafsky/slp3/slides/Chapter18.wsd.pdf\n",
        "- Word Sense Disambiguation: A Unified Evaluation Framework and Empirical Comparison, Raganato et all. https://www.aclweb.org/anthology/E17-1010.pdf\n",
        "- Toward Universal Word Sense Disambiguation Using Deep Neural Networks. Valco et all. https://ieeexplore.ieee.org/stamp/stamp.jsp?arnumber=8706934\n",
        "- Word Sense Disambiguation for 158 Languages using Word Embeddings Only. \n",
        "Logacheva et all. https://www.aclweb.org/anthology/2020.lrec-1.728.pdf\n",
        "\n"
      ]
    }
  ],
  "metadata": {
    "colab": {
      "collapsed_sections": [],
      "name": "Desambiguacion_palabras.ipynb",
      "provenance": []
    },
    "kernelspec": {
      "display_name": "Python 3.8.13 ('tf')",
      "language": "python",
      "name": "python3"
    },
    "language_info": {
      "codemirror_mode": {
        "name": "ipython",
        "version": 3
      },
      "file_extension": ".py",
      "mimetype": "text/x-python",
      "name": "python",
      "nbconvert_exporter": "python",
      "pygments_lexer": "ipython3",
      "version": "3.8.13"
    },
    "vscode": {
      "interpreter": {
        "hash": "c53547aa0124d5859edceb8d7d7510e9ca9160951ad4c338c6d53fe47e6c5fc7"
      }
    }
  },
  "nbformat": 4,
  "nbformat_minor": 0
}
