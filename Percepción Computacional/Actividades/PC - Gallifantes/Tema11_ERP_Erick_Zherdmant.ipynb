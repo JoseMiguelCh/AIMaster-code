{
 "cells": [
  {
   "cell_type": "markdown",
   "id": "acf6b067",
   "metadata": {},
   "source": [
    "### Erick Zherdmant"
   ]
  },
  {
   "cell_type": "markdown",
   "id": "882290e3",
   "metadata": {},
   "source": [
    "## Importamos librerías"
   ]
  },
  {
   "cell_type": "code",
   "execution_count": 110,
   "id": "019d3f5b",
   "metadata": {},
   "outputs": [
    {
     "name": "stdout",
     "output_type": "stream",
     "text": [
      "Populating the interactive namespace from numpy and matplotlib\n"
     ]
    }
   ],
   "source": [
    "import pandas as pd\n",
    "import matplotlib.pyplot as plt\n",
    "from sklearn import linear_model, metrics\n",
    "from sklearn import preprocessing\n",
    "from sklearn.preprocessing import normalize\n",
    "from scipy import signal, stats\n",
    "from scipy.stats import kurtosis\n",
    "import numpy as np #La usaremos principalmente porque nos permite crear y modificar matrices, \n",
    "#y hacer operaciones sobre ellas con facilidad\n",
    "from numpy.fft import fft, ifft\n",
    "import seaborn as sn #es una biblioteca de visualización de datos de Python basada en matplotlib.\n",
    "%pylab inline"
   ]
  },
  {
   "cell_type": "markdown",
   "id": "8dc9d00f",
   "metadata": {},
   "source": [
    "## Leemos Datos"
   ]
  },
  {
   "cell_type": "code",
   "execution_count": 7,
   "id": "3a79170f",
   "metadata": {},
   "outputs": [
    {
     "data": {
      "text/html": [
       "<div>\n",
       "<style scoped>\n",
       "    .dataframe tbody tr th:only-of-type {\n",
       "        vertical-align: middle;\n",
       "    }\n",
       "\n",
       "    .dataframe tbody tr th {\n",
       "        vertical-align: top;\n",
       "    }\n",
       "\n",
       "    .dataframe thead th {\n",
       "        text-align: right;\n",
       "    }\n",
       "</style>\n",
       "<table border=\"1\" class=\"dataframe\">\n",
       "  <thead>\n",
       "    <tr style=\"text-align: right;\">\n",
       "      <th></th>\n",
       "      <th>subject</th>\n",
       "      <th>condition</th>\n",
       "      <th>Fz</th>\n",
       "      <th>FCz</th>\n",
       "      <th>Cz</th>\n",
       "      <th>FC3</th>\n",
       "      <th>FC4</th>\n",
       "      <th>C3</th>\n",
       "      <th>C4</th>\n",
       "      <th>CP3</th>\n",
       "      <th>CP4</th>\n",
       "      <th>time_ms</th>\n",
       "    </tr>\n",
       "  </thead>\n",
       "  <tbody>\n",
       "    <tr>\n",
       "      <th>0</th>\n",
       "      <td>1</td>\n",
       "      <td>1</td>\n",
       "      <td>5.533701</td>\n",
       "      <td>5.726507</td>\n",
       "      <td>5.469535</td>\n",
       "      <td>5.386723</td>\n",
       "      <td>4.588875</td>\n",
       "      <td>6.560092</td>\n",
       "      <td>4.542811</td>\n",
       "      <td>5.397492</td>\n",
       "      <td>5.103695</td>\n",
       "      <td>-1500.0000</td>\n",
       "    </tr>\n",
       "    <tr>\n",
       "      <th>1</th>\n",
       "      <td>1</td>\n",
       "      <td>1</td>\n",
       "      <td>5.651489</td>\n",
       "      <td>5.837326</td>\n",
       "      <td>5.773131</td>\n",
       "      <td>5.627975</td>\n",
       "      <td>4.822217</td>\n",
       "      <td>6.739976</td>\n",
       "      <td>4.811770</td>\n",
       "      <td>5.541357</td>\n",
       "      <td>5.379273</td>\n",
       "      <td>-1499.0234</td>\n",
       "    </tr>\n",
       "    <tr>\n",
       "      <th>2</th>\n",
       "      <td>1</td>\n",
       "      <td>1</td>\n",
       "      <td>5.717580</td>\n",
       "      <td>5.932924</td>\n",
       "      <td>5.948466</td>\n",
       "      <td>5.826460</td>\n",
       "      <td>4.979647</td>\n",
       "      <td>7.026199</td>\n",
       "      <td>5.053779</td>\n",
       "      <td>5.634972</td>\n",
       "      <td>5.600504</td>\n",
       "      <td>-1498.0469</td>\n",
       "    </tr>\n",
       "    <tr>\n",
       "      <th>3</th>\n",
       "      <td>1</td>\n",
       "      <td>1</td>\n",
       "      <td>5.703267</td>\n",
       "      <td>5.968103</td>\n",
       "      <td>5.851512</td>\n",
       "      <td>5.812192</td>\n",
       "      <td>4.992899</td>\n",
       "      <td>6.940671</td>\n",
       "      <td>5.106650</td>\n",
       "      <td>5.543577</td>\n",
       "      <td>5.589775</td>\n",
       "      <td>-1497.0703</td>\n",
       "    </tr>\n",
       "    <tr>\n",
       "      <th>4</th>\n",
       "      <td>1</td>\n",
       "      <td>1</td>\n",
       "      <td>5.571578</td>\n",
       "      <td>5.917541</td>\n",
       "      <td>5.812808</td>\n",
       "      <td>5.744715</td>\n",
       "      <td>4.963338</td>\n",
       "      <td>6.726491</td>\n",
       "      <td>5.158073</td>\n",
       "      <td>5.454069</td>\n",
       "      <td>5.614092</td>\n",
       "      <td>-1496.0938</td>\n",
       "    </tr>\n",
       "    <tr>\n",
       "      <th>...</th>\n",
       "      <td>...</td>\n",
       "      <td>...</td>\n",
       "      <td>...</td>\n",
       "      <td>...</td>\n",
       "      <td>...</td>\n",
       "      <td>...</td>\n",
       "      <td>...</td>\n",
       "      <td>...</td>\n",
       "      <td>...</td>\n",
       "      <td>...</td>\n",
       "      <td>...</td>\n",
       "      <td>...</td>\n",
       "    </tr>\n",
       "    <tr>\n",
       "      <th>746491</th>\n",
       "      <td>81</td>\n",
       "      <td>3</td>\n",
       "      <td>-0.401267</td>\n",
       "      <td>0.041014</td>\n",
       "      <td>-0.352556</td>\n",
       "      <td>0.712530</td>\n",
       "      <td>-0.427019</td>\n",
       "      <td>0.479170</td>\n",
       "      <td>1.041864</td>\n",
       "      <td>0.645761</td>\n",
       "      <td>-0.085649</td>\n",
       "      <td>1495.1172</td>\n",
       "    </tr>\n",
       "    <tr>\n",
       "      <th>746492</th>\n",
       "      <td>81</td>\n",
       "      <td>3</td>\n",
       "      <td>-0.440294</td>\n",
       "      <td>0.093863</td>\n",
       "      <td>-0.422151</td>\n",
       "      <td>0.792209</td>\n",
       "      <td>-0.469230</td>\n",
       "      <td>0.486767</td>\n",
       "      <td>0.955658</td>\n",
       "      <td>0.601938</td>\n",
       "      <td>-0.264824</td>\n",
       "      <td>1496.0938</td>\n",
       "    </tr>\n",
       "    <tr>\n",
       "      <th>746493</th>\n",
       "      <td>81</td>\n",
       "      <td>3</td>\n",
       "      <td>-0.466162</td>\n",
       "      <td>0.083799</td>\n",
       "      <td>-0.485091</td>\n",
       "      <td>0.799034</td>\n",
       "      <td>-0.466002</td>\n",
       "      <td>0.516740</td>\n",
       "      <td>0.972635</td>\n",
       "      <td>0.612470</td>\n",
       "      <td>-0.463196</td>\n",
       "      <td>1497.0703</td>\n",
       "    </tr>\n",
       "    <tr>\n",
       "      <th>746494</th>\n",
       "      <td>81</td>\n",
       "      <td>3</td>\n",
       "      <td>-0.472620</td>\n",
       "      <td>0.003017</td>\n",
       "      <td>-0.465663</td>\n",
       "      <td>0.675452</td>\n",
       "      <td>-0.408777</td>\n",
       "      <td>0.558901</td>\n",
       "      <td>0.943028</td>\n",
       "      <td>0.635287</td>\n",
       "      <td>-0.656748</td>\n",
       "      <td>1498.0469</td>\n",
       "    </tr>\n",
       "    <tr>\n",
       "      <th>746495</th>\n",
       "      <td>81</td>\n",
       "      <td>3</td>\n",
       "      <td>-0.496193</td>\n",
       "      <td>0.044210</td>\n",
       "      <td>-0.503998</td>\n",
       "      <td>0.711932</td>\n",
       "      <td>-0.426605</td>\n",
       "      <td>0.672328</td>\n",
       "      <td>0.805889</td>\n",
       "      <td>0.602888</td>\n",
       "      <td>-0.719264</td>\n",
       "      <td>1499.0234</td>\n",
       "    </tr>\n",
       "  </tbody>\n",
       "</table>\n",
       "<p>746496 rows × 12 columns</p>\n",
       "</div>"
      ],
      "text/plain": [
       "        subject  condition        Fz       FCz        Cz       FC3       FC4  \\\n",
       "0             1          1  5.533701  5.726507  5.469535  5.386723  4.588875   \n",
       "1             1          1  5.651489  5.837326  5.773131  5.627975  4.822217   \n",
       "2             1          1  5.717580  5.932924  5.948466  5.826460  4.979647   \n",
       "3             1          1  5.703267  5.968103  5.851512  5.812192  4.992899   \n",
       "4             1          1  5.571578  5.917541  5.812808  5.744715  4.963338   \n",
       "...         ...        ...       ...       ...       ...       ...       ...   \n",
       "746491       81          3 -0.401267  0.041014 -0.352556  0.712530 -0.427019   \n",
       "746492       81          3 -0.440294  0.093863 -0.422151  0.792209 -0.469230   \n",
       "746493       81          3 -0.466162  0.083799 -0.485091  0.799034 -0.466002   \n",
       "746494       81          3 -0.472620  0.003017 -0.465663  0.675452 -0.408777   \n",
       "746495       81          3 -0.496193  0.044210 -0.503998  0.711932 -0.426605   \n",
       "\n",
       "              C3        C4       CP3       CP4    time_ms  \n",
       "0       6.560092  4.542811  5.397492  5.103695 -1500.0000  \n",
       "1       6.739976  4.811770  5.541357  5.379273 -1499.0234  \n",
       "2       7.026199  5.053779  5.634972  5.600504 -1498.0469  \n",
       "3       6.940671  5.106650  5.543577  5.589775 -1497.0703  \n",
       "4       6.726491  5.158073  5.454069  5.614092 -1496.0938  \n",
       "...          ...       ...       ...       ...        ...  \n",
       "746491  0.479170  1.041864  0.645761 -0.085649  1495.1172  \n",
       "746492  0.486767  0.955658  0.601938 -0.264824  1496.0938  \n",
       "746493  0.516740  0.972635  0.612470 -0.463196  1497.0703  \n",
       "746494  0.558901  0.943028  0.635287 -0.656748  1498.0469  \n",
       "746495  0.672328  0.805889  0.602888 -0.719264  1499.0234  \n",
       "\n",
       "[746496 rows x 12 columns]"
      ]
     },
     "metadata": {},
     "output_type": "display_data"
    }
   ],
   "source": [
    "data = pd.read_csv(\"ERPdata.csv\")\n",
    "display(data)"
   ]
  },
  {
   "cell_type": "markdown",
   "id": "1818b784",
   "metadata": {},
   "source": [
    "## Individuo malito"
   ]
  },
  {
   "cell_type": "code",
   "execution_count": 3,
   "id": "9a8c946a",
   "metadata": {},
   "outputs": [
    {
     "data": {
      "image/png": "[encoded data removed]",
      "text/plain": [
       "<Figure size 432x288 with 1 Axes>"
      ]
     },
     "metadata": {
      "needs_background": "light"
     },
     "output_type": "display_data"
    }
   ],
   "source": [
    "# subject 18: control; sensor: C4; condition: 1\n",
    "fs = 1024 # Hz\n",
    "erp_sub18_con1 = data.loc[(data['subject'] == 18) & (data['condition'] == 1), 'C4']\n",
    "plt.plot(erp_sub18_con1)\n",
    "plt.show()"
   ]
  },
  {
   "cell_type": "markdown",
   "id": "e2871e0d",
   "metadata": {},
   "source": [
    "## Individuo sanote"
   ]
  },
  {
   "cell_type": "code",
   "execution_count": 4,
   "id": "0695e0ba",
   "metadata": {},
   "outputs": [
    {
     "data": {
      "image/png": "[encoded data removed]",
      "text/plain": [
       "<Figure size 432x288 with 1 Axes>"
      ]
     },
     "metadata": {
      "needs_background": "light"
     },
     "output_type": "display_data"
    }
   ],
   "source": [
    "# subject 33: control; sensor: C4; condition: 1\n",
    "fs = 1024 # Hz\n",
    "erp_sub33_con1 = data.loc[(data['subject'] == 33) & (data['condition'] == 1), 'C4']\n",
    "plt.plot(erp_sub33_con1)\n",
    "plt.show()"
   ]
  },
  {
   "cell_type": "markdown",
   "id": "88feb537",
   "metadata": {},
   "source": [
    "## Obtén algún parámetro estadístico en el dominio natural que permita distinguir una señal de la otra"
   ]
  },
  {
   "cell_type": "markdown",
   "id": "7a01fddd",
   "metadata": {},
   "source": [
    "### Individuo Malito"
   ]
  },
  {
   "cell_type": "code",
   "execution_count": 226,
   "id": "fb9feac9",
   "metadata": {},
   "outputs": [
    {
     "name": "stdout",
     "output_type": "stream",
     "text": [
      "count    3072.000000\n",
      "mean        1.532221\n",
      "std         1.597809\n",
      "min        -7.870068\n",
      "25%         0.584154\n",
      "50%         1.764738\n",
      "75%         2.669612\n",
      "max         4.861314\n",
      "Name: C4, dtype: float64\n",
      "mode\t -7.87006842105263\n",
      "Simetría : -1.734921505085244\n",
      "Curtosis para distribución normal : 6.797895188130028\n",
      "Curtosis para distribución normal : 9.797895188130028\n",
      "Curtosis para distribución normal : 6.797895188130028\n"
     ]
    },
    {
     "data": {
      "image/png": "[encoded data removed]",
      "text/plain": [
       "<Figure size 432x288 with 1 Axes>"
      ]
     },
     "metadata": {
      "needs_background": "light"
     },
     "output_type": "display_data"
    }
   ],
   "source": [
    "individuo_malito = erp_sub18_con1\n",
    "print(individuo_malito.describe())\n",
    "print(\"mode\\t\", str(stats.mode(individuo_malito)[0][0]))\n",
    "print( 'Simetría :', individuo_malito.skew()) \n",
    "print( 'Curtosis para distribución normal :', kurtosis(individuo_malito)) \n",
    "print( 'Curtosis para distribución normal :', kurtosis(individuo_malito, fisher = False)) \n",
    "print( 'Curtosis para distribución normal :', kurtosis(individuo_malito, fisher = True)) \n",
    "sn.histplot(individuo_malito, color='g', bins=100, kde=True);"
   ]
  },
  {
   "cell_type": "markdown",
   "id": "51e8cf4c",
   "metadata": {},
   "source": [
    "### Individuo Sano"
   ]
  },
  {
   "cell_type": "code",
   "execution_count": 194,
   "id": "9660cadf",
   "metadata": {},
   "outputs": [
    {
     "name": "stdout",
     "output_type": "stream",
     "text": [
      "count    3072.000000\n",
      "mean       -0.616011\n",
      "std         2.706258\n",
      "min        -6.748018\n",
      "25%        -3.130575\n",
      "50%         0.044126\n",
      "75%         1.310658\n",
      "max         5.283001\n",
      "Name: C4, dtype: float64\n",
      "mode\t -6.74801770833333\n",
      "Simetría : -0.3346904395812969\n",
      "Curtosis para distribución normal : -0.8101275149478298\n",
      "Curtosis para distribución normal : 2.1898724850521702\n",
      "Curtosis para distribución normal : -0.8101275149478298\n"
     ]
    },
    {
     "data": {
      "image/png": "[encoded data removed]",
      "text/plain": [
       "<Figure size 432x288 with 1 Axes>"
      ]
     },
     "metadata": {
      "needs_background": "light"
     },
     "output_type": "display_data"
    }
   ],
   "source": [
    "individuo_sanote = erp_sub33_con1\n",
    "print(individuo_sanote.describe())\n",
    "print(\"mode\\t\", stats.mode(individuo_sanote)[0][0])\n",
    "print( 'Simetría :', individuo_sanote.skew()) \n",
    "print( 'Curtosis para distribución normal :', kurtosis(individuo_sanote)) \n",
    "print( 'Curtosis para distribución normal :', kurtosis(individuo_sanote, fisher = False)) \n",
    "print( 'Curtosis para distribución normal :', kurtosis(individuo_sanote, fisher = True)) \n",
    "sn.histplot(individuo_sanote, color='g', bins=100, kde=True);"
   ]
  },
  {
   "cell_type": "markdown",
   "id": "0f2e42e7",
   "metadata": {},
   "source": [
    "### Comparación"
   ]
  },
  {
   "cell_type": "markdown",
   "id": "0b819289",
   "metadata": {},
   "source": [
    "De acuerdo a los datos se pueden evidenciar que en el paciente malito la desviación estándar es menor que en el paciente sano. Por otro lado los histogramas evidencian que ambos pacientes tienen un simetría negativa; sin embargo el paciente malito es el que tiene un histograma más hacia la izquierda. En definitiva se evidencia una diferencia entre las dos señales."
   ]
  },
  {
   "cell_type": "markdown",
   "id": "d90f41d5",
   "metadata": {},
   "source": [
    "## Obtén algún parámetro estadístico en el dominio frecuencial que permita distinguir una señal de la otra"
   ]
  },
  {
   "cell_type": "code",
   "execution_count": 196,
   "id": "54f3b882",
   "metadata": {
    "scrolled": false
   },
   "outputs": [],
   "source": [
    "individuo_malito_fft = numpy.fft.fft(individuo_malito)\n",
    "individuo_sanote_fft = numpy.fft.fft(individuo_sanote)\n",
    "N = len(individuo_malito_fft)\n",
    "n = np.arange(N)\n",
    "T = N/fs\n",
    "freq = n/T "
   ]
  },
  {
   "cell_type": "markdown",
   "id": "c6c7ff04",
   "metadata": {},
   "source": [
    "### Individuo Malito"
   ]
  },
  {
   "cell_type": "code",
   "execution_count": 224,
   "id": "75177e42",
   "metadata": {},
   "outputs": [
    {
     "name": "stderr",
     "output_type": "stream",
     "text": [
      "C:\\Users\\zherdmant\\anaconda3\\lib\\site-packages\\scipy\\signal\\spectral.py:1816: UserWarning: Input data is complex, switching to return_onesided=False\n",
      "  warnings.warn('Input data is complex, switching to '\n"
     ]
    },
    {
     "data": {
      "image/png": "[encoded data removed]",
      "text/plain": [
       "<Figure size 864x432 with 2 Axes>"
      ]
     },
     "metadata": {
      "needs_background": "light"
     },
     "output_type": "display_data"
    },
    {
     "data": {
      "text/html": [
       "<div>\n",
       "<style scoped>\n",
       "    .dataframe tbody tr th:only-of-type {\n",
       "        vertical-align: middle;\n",
       "    }\n",
       "\n",
       "    .dataframe tbody tr th {\n",
       "        vertical-align: top;\n",
       "    }\n",
       "\n",
       "    .dataframe thead th {\n",
       "        text-align: right;\n",
       "    }\n",
       "</style>\n",
       "<table border=\"1\" class=\"dataframe\">\n",
       "  <thead>\n",
       "    <tr style=\"text-align: right;\">\n",
       "      <th></th>\n",
       "      <th>PAciente Malito</th>\n",
       "    </tr>\n",
       "  </thead>\n",
       "  <tbody>\n",
       "    <tr>\n",
       "      <th>count</th>\n",
       "      <td>3072.000000</td>\n",
       "    </tr>\n",
       "    <tr>\n",
       "      <th>mean</th>\n",
       "      <td>20.699660</td>\n",
       "    </tr>\n",
       "    <tr>\n",
       "      <th>std</th>\n",
       "      <td>120.949025</td>\n",
       "    </tr>\n",
       "    <tr>\n",
       "      <th>min</th>\n",
       "      <td>0.017045</td>\n",
       "    </tr>\n",
       "    <tr>\n",
       "      <th>25%</th>\n",
       "      <td>1.767029</td>\n",
       "    </tr>\n",
       "    <tr>\n",
       "      <th>50%</th>\n",
       "      <td>3.717031</td>\n",
       "    </tr>\n",
       "    <tr>\n",
       "      <th>75%</th>\n",
       "      <td>9.572464</td>\n",
       "    </tr>\n",
       "    <tr>\n",
       "      <th>max</th>\n",
       "      <td>4706.982306</td>\n",
       "    </tr>\n",
       "  </tbody>\n",
       "</table>\n",
       "</div>"
      ],
      "text/plain": [
       "       PAciente Malito\n",
       "count      3072.000000\n",
       "mean         20.699660\n",
       "std         120.949025\n",
       "min           0.017045\n",
       "25%           1.767029\n",
       "50%           3.717031\n",
       "75%           9.572464\n",
       "max        4706.982306"
      ]
     },
     "metadata": {},
     "output_type": "display_data"
    }
   ],
   "source": [
    "plt.figure(figsize = (12, 6))\n",
    "\n",
    "plt.subplot(121)\n",
    "plt.stem(freq, np.abs(individuo_malito_fft), 'b', markerfmt=\" \", basefmt=\"-b\")\n",
    "plt.xlabel('Freq (Hz)')\n",
    "plt.ylabel('FFT Amplitude |(freq)|')\n",
    "plt.xlim(0, 10)\n",
    "plt.title('Paciente malito')\n",
    "\n",
    "plt.subplot(122)\n",
    "freqs, times, spectrogram = signal.spectrogram(individuo_malito_fft)\n",
    "plt.imshow(spectrogram, aspect='auto', cmap='hot_r', origin='lower')\n",
    "plt.title('Spectrogram')\n",
    "plt.ylabel('Frequency band')\n",
    "plt.xlabel('Time window')\n",
    "plt.tight_layout()\n",
    "\n",
    "plt.show()\n",
    "\n",
    "df = pd.DataFrame(np.abs(individuo_malito_fft), columns = ['PAciente Malito'])\n",
    "display(df.describe())"
   ]
  },
  {
   "cell_type": "markdown",
   "id": "b2e059f2",
   "metadata": {},
   "source": [
    "### Individuo Sanote"
   ]
  },
  {
   "cell_type": "code",
   "execution_count": 225,
   "id": "bf8114be",
   "metadata": {},
   "outputs": [
    {
     "name": "stderr",
     "output_type": "stream",
     "text": [
      "C:\\Users\\zherdmant\\anaconda3\\lib\\site-packages\\scipy\\signal\\spectral.py:1816: UserWarning: Input data is complex, switching to return_onesided=False\n",
      "  warnings.warn('Input data is complex, switching to '\n"
     ]
    },
    {
     "data": {
      "image/png": "[encoded data removed]",
      "text/plain": [
       "<Figure size 864x432 with 2 Axes>"
      ]
     },
     "metadata": {
      "needs_background": "light"
     },
     "output_type": "display_data"
    },
    {
     "data": {
      "text/html": [
       "<div>\n",
       "<style scoped>\n",
       "    .dataframe tbody tr th:only-of-type {\n",
       "        vertical-align: middle;\n",
       "    }\n",
       "\n",
       "    .dataframe tbody tr th {\n",
       "        vertical-align: top;\n",
       "    }\n",
       "\n",
       "    .dataframe thead th {\n",
       "        text-align: right;\n",
       "    }\n",
       "</style>\n",
       "<table border=\"1\" class=\"dataframe\">\n",
       "  <thead>\n",
       "    <tr style=\"text-align: right;\">\n",
       "      <th></th>\n",
       "      <th>Paciente Sanote</th>\n",
       "    </tr>\n",
       "  </thead>\n",
       "  <tbody>\n",
       "    <tr>\n",
       "      <th>count</th>\n",
       "      <td>3072.000000</td>\n",
       "    </tr>\n",
       "    <tr>\n",
       "      <th>mean</th>\n",
       "      <td>25.914533</td>\n",
       "    </tr>\n",
       "    <tr>\n",
       "      <th>std</th>\n",
       "      <td>151.634886</td>\n",
       "    </tr>\n",
       "    <tr>\n",
       "      <th>min</th>\n",
       "      <td>0.111845</td>\n",
       "    </tr>\n",
       "    <tr>\n",
       "      <th>25%</th>\n",
       "      <td>2.622503</td>\n",
       "    </tr>\n",
       "    <tr>\n",
       "      <th>50%</th>\n",
       "      <td>6.533712</td>\n",
       "    </tr>\n",
       "    <tr>\n",
       "      <th>75%</th>\n",
       "      <td>14.877073</td>\n",
       "    </tr>\n",
       "    <tr>\n",
       "      <th>max</th>\n",
       "      <td>4538.677067</td>\n",
       "    </tr>\n",
       "  </tbody>\n",
       "</table>\n",
       "</div>"
      ],
      "text/plain": [
       "       Paciente Sanote\n",
       "count      3072.000000\n",
       "mean         25.914533\n",
       "std         151.634886\n",
       "min           0.111845\n",
       "25%           2.622503\n",
       "50%           6.533712\n",
       "75%          14.877073\n",
       "max        4538.677067"
      ]
     },
     "metadata": {},
     "output_type": "display_data"
    }
   ],
   "source": [
    "plt.figure(figsize = (12, 6))\n",
    "\n",
    "plt.subplot(121)\n",
    "plt.stem(freq, np.abs(individuo_sanote_fft), 'b', markerfmt=\" \", basefmt=\"-b\")\n",
    "plt.xlabel('Freq (Hz)')\n",
    "plt.ylabel('FFT Amplitude |(freq)|')\n",
    "plt.xlim(0, 10)\n",
    "plt.title('Paciente sanote')\n",
    "\n",
    "plt.subplot(122)\n",
    "freqs, times, spectrogram = signal.spectrogram(individuo_sanote_fft)\n",
    "plt.imshow(spectrogram, aspect='auto', cmap='hot_r', origin='lower')\n",
    "plt.title('Spectrogram')\n",
    "plt.ylabel('Frequency band')\n",
    "plt.xlabel('Time window')\n",
    "plt.tight_layout()\n",
    "\n",
    "plt.show()\n",
    "\n",
    "df = pd.DataFrame(np.abs(individuo_sanote_fft), columns = ['Paciente Sanote'])\n",
    "display(df.describe())"
   ]
  },
  {
   "cell_type": "markdown",
   "id": "9656b1bd",
   "metadata": {},
   "source": [
    "### Comparación"
   ]
  },
  {
   "cell_type": "markdown",
   "id": "a7855be9",
   "metadata": {},
   "source": [
    "Al igual que en el dominio natural se evidencia diferencias entre las dos señales en la media siendo mayor en el paciente sano así mismo la desviación estandar de cada uno de ellas; por lo que en se puede evidenciar diferencias entre ambas señales."
   ]
  }
 ],
 "metadata": {
  "kernelspec": {
   "display_name": "Python 3 (ipykernel)",
   "language": "python",
   "name": "python3"
  },
  "language_info": {
   "codemirror_mode": {
    "name": "ipython",
    "version": 3
   },
   "file_extension": ".py",
   "mimetype": "text/x-python",
   "name": "python",
   "nbconvert_exporter": "python",
   "pygments_lexer": "ipython3",
   "version": "3.9.7"
  }
 },
 "nbformat": 4,
 "nbformat_minor": 5
}
