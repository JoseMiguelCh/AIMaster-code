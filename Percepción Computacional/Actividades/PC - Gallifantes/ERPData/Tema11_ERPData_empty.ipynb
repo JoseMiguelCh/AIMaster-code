{
 "cells": [
  {
   "cell_type": "markdown",
   "id": "882290e3",
   "metadata": {},
   "source": [
    "## Importamos librerías"
   ]
  },
  {
   "cell_type": "code",
   "execution_count": 1,
   "id": "019d3f5b",
   "metadata": {},
   "outputs": [
    {
     "name": "stdout",
     "output_type": "stream",
     "text": [
      "Populating the interactive namespace from numpy and matplotlib\n"
     ]
    }
   ],
   "source": [
    "import pandas as pd\n",
    "import matplotlib.pyplot as plt\n",
    "from sklearn import linear_model, metrics\n",
    "from scipy import signal, stats\n",
    "%pylab inline"
   ]
  },
  {
   "cell_type": "markdown",
   "id": "8dc9d00f",
   "metadata": {},
   "source": [
    "## Leemos Datos"
   ]
  },
  {
   "cell_type": "code",
   "execution_count": 2,
   "id": "3a79170f",
   "metadata": {},
   "outputs": [
    {
     "data": {
      "text/html": [
       "<div>\n",
       "<style scoped>\n",
       "    .dataframe tbody tr th:only-of-type {\n",
       "        vertical-align: middle;\n",
       "    }\n",
       "\n",
       "    .dataframe tbody tr th {\n",
       "        vertical-align: top;\n",
       "    }\n",
       "\n",
       "    .dataframe thead th {\n",
       "        text-align: right;\n",
       "    }\n",
       "</style>\n",
       "<table border=\"1\" class=\"dataframe\">\n",
       "  <thead>\n",
       "    <tr style=\"text-align: right;\">\n",
       "      <th></th>\n",
       "      <th>subject</th>\n",
       "      <th>condition</th>\n",
       "      <th>Fz</th>\n",
       "      <th>FCz</th>\n",
       "      <th>Cz</th>\n",
       "      <th>FC3</th>\n",
       "      <th>FC4</th>\n",
       "      <th>C3</th>\n",
       "      <th>C4</th>\n",
       "      <th>CP3</th>\n",
       "      <th>CP4</th>\n",
       "      <th>time_ms</th>\n",
       "    </tr>\n",
       "  </thead>\n",
       "  <tbody>\n",
       "    <tr>\n",
       "      <th>0</th>\n",
       "      <td>1</td>\n",
       "      <td>1</td>\n",
       "      <td>5.533701</td>\n",
       "      <td>5.726507</td>\n",
       "      <td>5.469535</td>\n",
       "      <td>5.386723</td>\n",
       "      <td>4.588875</td>\n",
       "      <td>6.560092</td>\n",
       "      <td>4.542811</td>\n",
       "      <td>5.397492</td>\n",
       "      <td>5.103695</td>\n",
       "      <td>-1500.0000</td>\n",
       "    </tr>\n",
       "    <tr>\n",
       "      <th>1</th>\n",
       "      <td>1</td>\n",
       "      <td>1</td>\n",
       "      <td>5.651489</td>\n",
       "      <td>5.837326</td>\n",
       "      <td>5.773131</td>\n",
       "      <td>5.627975</td>\n",
       "      <td>4.822217</td>\n",
       "      <td>6.739976</td>\n",
       "      <td>4.811770</td>\n",
       "      <td>5.541357</td>\n",
       "      <td>5.379273</td>\n",
       "      <td>-1499.0234</td>\n",
       "    </tr>\n",
       "    <tr>\n",
       "      <th>2</th>\n",
       "      <td>1</td>\n",
       "      <td>1</td>\n",
       "      <td>5.717580</td>\n",
       "      <td>5.932924</td>\n",
       "      <td>5.948466</td>\n",
       "      <td>5.826460</td>\n",
       "      <td>4.979647</td>\n",
       "      <td>7.026199</td>\n",
       "      <td>5.053779</td>\n",
       "      <td>5.634972</td>\n",
       "      <td>5.600504</td>\n",
       "      <td>-1498.0469</td>\n",
       "    </tr>\n",
       "    <tr>\n",
       "      <th>3</th>\n",
       "      <td>1</td>\n",
       "      <td>1</td>\n",
       "      <td>5.703267</td>\n",
       "      <td>5.968103</td>\n",
       "      <td>5.851512</td>\n",
       "      <td>5.812192</td>\n",
       "      <td>4.992899</td>\n",
       "      <td>6.940671</td>\n",
       "      <td>5.106650</td>\n",
       "      <td>5.543577</td>\n",
       "      <td>5.589775</td>\n",
       "      <td>-1497.0703</td>\n",
       "    </tr>\n",
       "    <tr>\n",
       "      <th>4</th>\n",
       "      <td>1</td>\n",
       "      <td>1</td>\n",
       "      <td>5.571578</td>\n",
       "      <td>5.917541</td>\n",
       "      <td>5.812808</td>\n",
       "      <td>5.744715</td>\n",
       "      <td>4.963338</td>\n",
       "      <td>6.726491</td>\n",
       "      <td>5.158073</td>\n",
       "      <td>5.454069</td>\n",
       "      <td>5.614092</td>\n",
       "      <td>-1496.0938</td>\n",
       "    </tr>\n",
       "  </tbody>\n",
       "</table>\n",
       "</div>"
      ],
      "text/plain": [
       "   subject  condition        Fz       FCz        Cz       FC3       FC4  \\\n",
       "0        1          1  5.533701  5.726507  5.469535  5.386723  4.588875   \n",
       "1        1          1  5.651489  5.837326  5.773131  5.627975  4.822217   \n",
       "2        1          1  5.717580  5.932924  5.948466  5.826460  4.979647   \n",
       "3        1          1  5.703267  5.968103  5.851512  5.812192  4.992899   \n",
       "4        1          1  5.571578  5.917541  5.812808  5.744715  4.963338   \n",
       "\n",
       "         C3        C4       CP3       CP4    time_ms  \n",
       "0  6.560092  4.542811  5.397492  5.103695 -1500.0000  \n",
       "1  6.739976  4.811770  5.541357  5.379273 -1499.0234  \n",
       "2  7.026199  5.053779  5.634972  5.600504 -1498.0469  \n",
       "3  6.940671  5.106650  5.543577  5.589775 -1497.0703  \n",
       "4  6.726491  5.158073  5.454069  5.614092 -1496.0938  "
      ]
     },
     "execution_count": 2,
     "metadata": {},
     "output_type": "execute_result"
    }
   ],
   "source": [
    "data = pd.read_csv(\"ERPdata.csv\")\n",
    "data.head()"
   ]
  },
  {
   "cell_type": "markdown",
   "id": "1818b784",
   "metadata": {},
   "source": [
    "## Individuo malito"
   ]
  },
  {
   "cell_type": "code",
   "execution_count": 3,
   "id": "9a8c946a",
   "metadata": {},
   "outputs": [
    {
     "data": {
      "image/png": "[encoded data removed]",
      "text/plain": [
       "<Figure size 432x288 with 1 Axes>"
      ]
     },
     "metadata": {
      "needs_background": "light"
     },
     "output_type": "display_data"
    }
   ],
   "source": [
    "# subject 18: control; sensor: C4; condition: 1\n",
    "fs = 1024 # Hz\n",
    "erp_sub18_con1 = data.loc[(data['subject'] == 18) & (data['condition'] == 1), 'C4']\n",
    "plt.plot(erp_sub18_con1)\n",
    "plt.show()"
   ]
  },
  {
   "cell_type": "markdown",
   "id": "e2871e0d",
   "metadata": {},
   "source": [
    "## Individuo sanote"
   ]
  },
  {
   "cell_type": "code",
   "execution_count": 4,
   "id": "0695e0ba",
   "metadata": {},
   "outputs": [
    {
     "data": {
      "image/png": "[encoded data removed]",
      "text/plain": [
       "<Figure size 432x288 with 1 Axes>"
      ]
     },
     "metadata": {
      "needs_background": "light"
     },
     "output_type": "display_data"
    }
   ],
   "source": [
    "# subject 33: control; sensor: C4; condition: 1\n",
    "fs = 1024 # Hz\n",
    "erp_sub33_con1 = data.loc[(data['subject'] == 33) & (data['condition'] == 1), 'C4']\n",
    "plt.plot(erp_sub33_con1)\n",
    "plt.show()"
   ]
  },
  {
   "cell_type": "markdown",
   "id": "88feb537",
   "metadata": {},
   "source": [
    "## Obtén algún parámetro estadístico en el dominio natural que permita distinguir una señal de la otra"
   ]
  },
  {
   "cell_type": "code",
   "execution_count": null,
   "id": "fb9feac9",
   "metadata": {},
   "outputs": [],
   "source": []
  },
  {
   "cell_type": "markdown",
   "id": "d90f41d5",
   "metadata": {},
   "source": [
    "## Obtén algún parámetro estadístico en el dominio frecuencial que permita distinguir una señal de la otra"
   ]
  },
  {
   "cell_type": "code",
   "execution_count": null,
   "id": "a761433e",
   "metadata": {},
   "outputs": [],
   "source": []
  }
 ],
 "metadata": {
  "kernelspec": {
   "display_name": "Python 3 (ipykernel)",
   "language": "python",
   "name": "python3"
  },
  "language_info": {
   "codemirror_mode": {
    "name": "ipython",
    "version": 3
   },
   "file_extension": ".py",
   "mimetype": "text/x-python",
   "name": "python",
   "nbconvert_exporter": "python",
   "pygments_lexer": "ipython3",
   "version": "3.8.5"
  }
 },
 "nbformat": 4,
 "nbformat_minor": 5
}
